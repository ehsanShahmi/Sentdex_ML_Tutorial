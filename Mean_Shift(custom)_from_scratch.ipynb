{
 "cells": [
  {
   "cell_type": "code",
   "execution_count": 3,
   "metadata": {
    "collapsed": false,
    "scrolled": false
   },
   "outputs": [
    {
     "data": {
      "image/png": "[encoded data removed]",
      "text/plain": [
       "<matplotlib.figure.Figure at 0x1e1aa6780b8>"
      ]
     },
     "metadata": {},
     "output_type": "display_data"
    }
   ],
   "source": [
    "import matplotlib.pyplot as plt\n",
    "plt.rcParams[\"figure.figsize\"] = \"11,8\"\n",
    "from matplotlib import style\n",
    "style.use('ggplot')\n",
    "import numpy as np\n",
    "\n",
    "X = np.array ([[1,2],\n",
    "              [1.5,1.8],\n",
    "              [5,8],\n",
    "              [8,8],\n",
    "              [1,0.6],\n",
    "              [9,11],\n",
    "              [8,2],\n",
    "              [10,2],\n",
    "              [9,3]])\n",
    "\n",
    "plt.scatter(X[:,0] , X[:,1], s=100)\n",
    "plt.show()\n",
    "colors = 10*[\"g\",\"r\",\"c\",\"b\",\"k\"]"
   ]
  },
  {
   "cell_type": "code",
   "execution_count": 11,
   "metadata": {
    "collapsed": true
   },
   "outputs": [],
   "source": [
    "class Mean_Shift:\n",
    "    def __init__(self, radius=2):\n",
    "        self.radius = radius\n",
    "    \n",
    "    \n",
    "    def fit(self, data):\n",
    "        centroids = {}\n",
    "        \n",
    "        for i in range(len(data)):                  #giving the centroids their key and each data is a centroid at first\n",
    "            centroids[i] = data[i]\n",
    "        \n",
    "        while True:\n",
    "            new_centroids = []\n",
    "            for i in centroids:\n",
    "                in_bandwidth = []                   #containing al feature-sets inside our curernt bandwidth\n",
    "                centroid = centroids[i]             #just taking the current centroid's value\n",
    "                for featureset in data:             #for finding which points are inside this radius/bandwidth\n",
    "                    if np.linalg.norm(featureset - centroid) < self.radius:\n",
    "                        in_bandwidth.append(featureset)\n",
    "                                                    #now found the mean of those centroids inside this bandwidth\n",
    "                new_centroid = np.average(in_bandwidth, axis=0) \n",
    "                                                    #converting the array version into a tuple version.\n",
    "                new_centroids.append(tuple(new_centroid))\n",
    "                \n",
    "                                                    #getting a sorted list of the set version of unique tuples\n",
    "            uniques = sorted(list(set(new_centroids)))\n",
    "            \n",
    "            prev_centroids = dict(centroids)        #saving the previous values of all the centroids\n",
    "            \n",
    "            centroids = {}                          #we populated it b4 entering here, so declared again newly\n",
    "            for i in range(len(uniques)):           #storing the array version of each uniques tuple-set in the dict\n",
    "                centroids[i] = np.array(uniques[i])\n",
    "                \n",
    "                                                    #we stored new controids, then found uniqu ones from them\n",
    "                                                    #now will check if equal with previous version...if equal then optimized\n",
    "                                                    #then we stop iterating the whole system anymore\n",
    "            optimized = True\n",
    "            for i in centroids:\n",
    "                if not np.array_equal(centroids[i], prev_centroids[i]): optimized = False\n",
    "                if not optimized: break\n",
    "            if optimized: break\n",
    "        \n",
    "        self.centroids = centroids\n",
    "        \n",
    "        \n",
    "    def predict(self, data):\n",
    "        return"
   ]
  },
  {
   "cell_type": "code",
   "execution_count": 12,
   "metadata": {
    "collapsed": true
   },
   "outputs": [],
   "source": [
    "clf = Mean_Shift()\n",
    "clf.fit(X)"
   ]
  },
  {
   "cell_type": "code",
   "execution_count": 13,
   "metadata": {
    "collapsed": false
   },
   "outputs": [
    {
     "data": {
      "image/png": "[encoded data removed]",
      "text/plain": [
       "<matplotlib.figure.Figure at 0x1e1aade5be0>"
      ]
     },
     "metadata": {},
     "output_type": "display_data"
    }
   ],
   "source": [
    "#we recording the centroids of the obj to plot them\n",
    "centroids = clf.centroids                          \n",
    "\n",
    "plt.scatter(X[:,0] , X[:,1], s=100)                #this scatters/plots the data\n",
    "for c in centroids:                                #this scatters/plots the final centroids\n",
    "    plt.scatter(centroids[c][0], centroids[c][1], color='k', marker='*', s=100)\n",
    "plt.show()"
   ]
  },
  {
   "cell_type": "markdown",
   "metadata": {},
   "source": [
    "### radius boro choto kore kore change korle, cluster centroids'o change hobe, which in turn will change the entire clusters\n",
    "    so amra jnina j kon radius will b best for the dataset\n",
    "    ei jnno we need to use dynamic bandwidths....where machine weight die die bujhe nibe kon radius will be the BEST"
   ]
  },
  {
   "cell_type": "code",
   "execution_count": null,
   "metadata": {
    "collapsed": true
   },
   "outputs": [],
   "source": [
    "class Mean_Shift_dynamicRadius:\n",
    "    def __init__(self, radius=None, radius_norm_step=100):\n",
    "        self.radius = radius\n",
    "        self.radius_norm_step = radius_norm_step\n",
    "    \n",
    "    \n",
    "    def fit(self, data):\n",
    "        if self.radius == None:                         \n",
    "            all_data_centroid = np.average(data, axis=0)        #just the first case to find centroid of entire data\n",
    "            all_data_norm = np.linalg.norm(all_data_centroid)   \n",
    "            self.radius = all_data_norm / self.radius_norm_step #defining the radius \n",
    "            \n",
    "        \n",
    "        centroids = {}\n",
    "        \n",
    "        for i in range(len(data)):                  \n",
    "            centroids[i] = data[i]\n",
    "        \n",
    "        while True:\n",
    "            new_centroids = []\n",
    "            for i in centroids:\n",
    "                in_bandwidth = []                   \n",
    "                centroid = centroids[i]       \n",
    "                \n",
    "                weights = [i for i in range(self.radius_norm_step)][::-1]  #weights are given for each radius, \n",
    "                                                                           #and sorted decreasingly: 99,98,...,1,0\n",
    "                \n",
    "                for featureset in data:             \n",
    "                    distance = np.linalg.norm(featureset-centroid)\n",
    "                    if distance == 0: distance = 0.000000001\n",
    "                    weight_index = int(distance/self.radius)               #each featureset's weight for that radius(see cpy)\n",
    "                    \n",
    "                                                    \n",
    "                new_centroid = np.average(in_bandwidth, axis=0) \n",
    "                                                    \n",
    "                new_centroids.append(tuple(new_centroid))\n",
    "                                                 \n",
    "            uniques = sorted(list(set(new_centroids)))\n",
    "            \n",
    "            prev_centroids = dict(centroids)        \n",
    "            \n",
    "            centroids = {}                          \n",
    "            for i in range(len(uniques)):           \n",
    "                centroids[i] = np.array(uniques[i])\n",
    "                \n",
    "                                                    \n",
    "            optimized = True\n",
    "            for i in centroids:\n",
    "                if not np.array_equal(centroids[i], prev_centroids[i]): optimized = False\n",
    "                if not optimized: break\n",
    "            if optimized: break\n",
    "        \n",
    "        self.centroids = centroids\n",
    "        \n",
    "        \n",
    "    def predict(self, data):\n",
    "        return"
   ]
  }
 ],
 "metadata": {
  "kernelspec": {
   "display_name": "Python 3",
   "language": "python",
   "name": "python3"
  },
  "language_info": {
   "codemirror_mode": {
    "name": "ipython",
    "version": 3
   },
   "file_extension": ".py",
   "mimetype": "text/x-python",
   "name": "python",
   "nbconvert_exporter": "python",
   "pygments_lexer": "ipython3",
   "version": "3.6.0"
  }
 },
 "nbformat": 4,
 "nbformat_minor": 2
}
