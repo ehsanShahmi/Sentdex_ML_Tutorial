{
 "cells": [
  {
   "cell_type": "code",
   "execution_count": 71,
   "metadata": {
    "collapsed": false
   },
   "outputs": [
    {
     "name": "stderr",
     "output_type": "stream",
     "text": [
      "C:\\Users\\User\\Anaconda3\\lib\\site-packages\\sklearn\\cross_validation.py:44: DeprecationWarning: This module was deprecated in version 0.18 in favor of the model_selection module into which all the refactored classes and functions are moved. Also note that the interface of the new CV iterators are different from that of this module. This module will be removed in 0.20.\n",
      "  \"This module will be removed in 0.20.\", DeprecationWarning)\n"
     ]
    }
   ],
   "source": [
    "import pandas as pd\n",
    "import quandl, math\n",
    "import numpy as np\n",
    "\n",
    "from sklearn import preprocessing, cross_validation, svm\n",
    "from sklearn.linear_model import LinearRegression\n",
    "\n",
    "quandl.ApiConfig.api_key = 'sTWktYRdKfufsd_3NvfG'\n",
    "\n",
    "df = quandl.get_table('WIKI/PRICES')\n",
    "#print (df.head())\n",
    "\n",
    "df = df [['adj_open','adj_high','adj_low','adj_close','adj_volume']]\n",
    "df['HL_PCT'] = (df['adj_high'] - df['adj_close']) / df['adj_close'] * 100.0\n",
    "df['PCT_change'] = (df['adj_close'] - df['adj_open']) / df['adj_open'] * 100.0\n",
    "df = df [['adj_close','HL_PCT','PCT_change','adj_volume']]\n",
    "\n",
    "forecast_col = 'adj_close' #এইখানে যেকোন কিছু variable ধরা যাবে instead of 'adj_close', \n",
    "                           #that is যেই columnটাকে forecast করতে চাই সেটা\n",
    "\n",
    "df.fillna(-99999, inplace=True)\n",
    "\n",
    "forecast_out = int(math.ceil(0.01*len(df)))\n",
    "\n",
    "df['label'] = df[forecast_col].shift(-forecast_out)\n",
    "\n",
    "df.dropna(inplace=True)\n",
    "#print (df.head())"
   ]
  },
  {
   "cell_type": "code",
   "execution_count": 72,
   "metadata": {
    "collapsed": true
   },
   "outputs": [],
   "source": [
    "#defining x & y for the regression\n",
    "X = np.array(df.drop(['label'],1)) \n",
    "y = np.array(df['label'])"
   ]
  },
  {
   "cell_type": "code",
   "execution_count": 73,
   "metadata": {
    "collapsed": false
   },
   "outputs": [],
   "source": [
    "X = preprocessing.scale(X) #Takes your values and attempts to normalize them to be between -1 and 1. \n",
    "                           #This is done for efficiency and accuracy, but is not required."
   ]
  },
  {
   "cell_type": "code",
   "execution_count": 74,
   "metadata": {
    "collapsed": true
   },
   "outputs": [],
   "source": [
    "#X = X[:-forecast_out + 1]\n",
    "#df.dropna(inplace=True)\n",
    "y = np.array(df['label'])"
   ]
  },
  {
   "cell_type": "code",
   "execution_count": 75,
   "metadata": {
    "collapsed": false
   },
   "outputs": [
    {
     "name": "stdout",
     "output_type": "stream",
     "text": [
      "9900 9900\n"
     ]
    }
   ],
   "source": [
    "print (len(X), len(y))"
   ]
  },
  {
   "cell_type": "code",
   "execution_count": 76,
   "metadata": {
    "collapsed": false
   },
   "outputs": [],
   "source": [
    "X_train, X_test, y_train, y_test = cross_validation.train_test_split(X, y, test_size=0.2) #20% of data to be testing data"
   ]
  },
  {
   "cell_type": "code",
   "execution_count": 80,
   "metadata": {
    "collapsed": true
   },
   "outputs": [],
   "source": [
    "clf = LinearRegression(n_jobs=10) #classifier is now defined\n",
    "#clf = svm.SVR() #classifier on testing by a different non-linear algorithm\n",
    "#clf = svm.SVR(kernel='poly') #default is linear, here so changed to polynomial "
   ]
  },
  {
   "cell_type": "code",
   "execution_count": 81,
   "metadata": {
    "collapsed": false
   },
   "outputs": [],
   "source": [
    "clf.fit(X_train, y_train) #train the classifier on 2 different data, instead of one for being better\n",
    "accuracy = clf.score(X_test, y_test) #test the classifier to find its accuracy"
   ]
  },
  {
   "cell_type": "markdown",
   "metadata": {},
   "source": [
    "fit() goes with training of data\n",
    "\n",
    "score() goes anonymous to testing of the data"
   ]
  },
  {
   "cell_type": "code",
   "execution_count": 83,
   "metadata": {
    "collapsed": false
   },
   "outputs": [
    {
     "name": "stdout",
     "output_type": "stream",
     "text": [
      "0.596456530173\n"
     ]
    }
   ],
   "source": [
    "print (accuracy) #this much accuracy for pedicting of 1% data"
   ]
  },
  {
   "cell_type": "code",
   "execution_count": null,
   "metadata": {
    "collapsed": true
   },
   "outputs": [],
   "source": []
  }
 ],
 "metadata": {
  "kernelspec": {
   "display_name": "Python 3",
   "language": "python",
   "name": "python3"
  },
  "language_info": {
   "codemirror_mode": {
    "name": "ipython",
    "version": 3
   },
   "file_extension": ".py",
   "mimetype": "text/x-python",
   "name": "python",
   "nbconvert_exporter": "python",
   "pygments_lexer": "ipython3",
   "version": "3.6.0"
  }
 },
 "nbformat": 4,
 "nbformat_minor": 2
}
