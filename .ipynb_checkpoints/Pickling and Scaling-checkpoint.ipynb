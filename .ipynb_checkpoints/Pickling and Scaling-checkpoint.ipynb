{
 "cells": [
  {
   "cell_type": "code",
   "execution_count": 17,
   "metadata": {
    "collapsed": false
   },
   "outputs": [
    {
     "data": {
      "image/png": "[encoded data removed]",
      "text/plain": [
       "<matplotlib.figure.Figure at 0x129ba52dfd0>"
      ]
     },
     "metadata": {},
     "output_type": "display_data"
    }
   ],
   "source": [
    "import quandl, math\n",
    "import numpy as np\n",
    "import pandas as pd\n",
    "from sklearn import preprocessing, cross_validation, svm\n",
    "from sklearn.linear_model import LinearRegression\n",
    "import matplotlib.pyplot as plt\n",
    "from matplotlib import style\n",
    "from datetime import datetime, date, time, timedelta\n",
    "style.use('ggplot')\n",
    "import pickle\n",
    "\n",
    "quandl.ApiConfig.api_key = 'sTWktYRdKfufsd_3NvfG'\n",
    "df = quandl.get_table('WIKI/PRICES')\n",
    "\n",
    "df = df [['adj_open','adj_high','adj_low','adj_close','adj_volume']]\n",
    "df['HL_PCT'] = (df['adj_high'] - df['adj_close']) / df['adj_close'] * 100.0\n",
    "df['PCT_change'] = (df['adj_close'] - df['adj_open']) / df['adj_open'] * 100.0\n",
    "df = df [['adj_close','HL_PCT','PCT_change','adj_volume']]\n",
    "\n",
    "forecast_col = 'adj_close'\n",
    "df.fillna(value=-99999, inplace=True)\n",
    "forecast_out = int(math.ceil(0.01 * len(df)))\n",
    "df['label'] = df[forecast_col].shift(-forecast_out)\n",
    "\n",
    "X = np.array(df.drop(['label'], 1))\n",
    "X = preprocessing.scale(X)\n",
    "X_lately = X[-forecast_out:]\n",
    "X = X[:-forecast_out]\n",
    "\n",
    "df.dropna(inplace=True)\n",
    "y = np.array(df['label'])\n",
    "\n",
    "X_train, X_test, y_train, y_test = cross_validation.train_test_split(X, y, test_size=0.2)\n",
    "clf = LinearRegression(n_jobs=-1)\n",
    "clf.fit(X_train, y_train)\n",
    "\n",
    "## এইখানে pickle use kore amra save kore nitesi ekta tranied classifier...saving and loading from a temporary variable 'poop'.\n",
    "with open ('linearregression.pickle','wb') as poop:\n",
    "    pickle.dump(clf, poop)                            #dumping(putting) the classifier in a varibale, poop.\n",
    "    \n",
    "## এইখানে we are now using(loading) our saved classifier\n",
    "pickle_in = open('linearregression.pickle','rb')\n",
    "clf = pickle.load(pickle_in)\n",
    "\n",
    "\n",
    "\n",
    "confidence = clf.score(X_test, y_test)\n",
    "\n",
    "forecast_set = clf.predict(X_lately)\n",
    "df['Forecast'] = np.nan\n",
    "\n",
    "# last_date = df.iloc[-1].name\n",
    "# last_unix = last_date + datetime.datetime.timestamp()\n",
    "# one_day = 86400\n",
    "# next_unix = last_unix + one_day\n",
    "\n",
    "# for i in forecast_set:\n",
    "#     next_date = datetime.datetime.fromtimestamp(next_unix)\n",
    "#     next_unix += 86400\n",
    "#     df.loc[next_date] = [np.nan for _ in range(len(df.columns)-1)]+[i]\n",
    "\n",
    "last_date= df.index.max()\n",
    "next_unix= last_date + timedelta(days=1).total_seconds()\n",
    "\n",
    "for i in forecast_set:\n",
    "    next_date = datetime.fromtimestamp(next_unix)\n",
    "    next_unix += 86400\n",
    "    df.loc[next_date] = [np.nan for _ in range(len(df.columns)-1)] + [i]\n",
    "\n",
    "df['adj_close'].plot()\n",
    "df['Forecast'].plot()\n",
    "plt.legend(loc=4)\n",
    "plt.xlabel('Date')\n",
    "plt.ylabel('Price')\n",
    "plt.show()"
   ]
  },
  {
   "cell_type": "code",
   "execution_count": null,
   "metadata": {
    "collapsed": true
   },
   "outputs": [],
   "source": []
  }
 ],
 "metadata": {
  "kernelspec": {
   "display_name": "Python 3",
   "language": "python",
   "name": "python3"
  },
  "language_info": {
   "codemirror_mode": {
    "name": "ipython",
    "version": 3
   },
   "file_extension": ".py",
   "mimetype": "text/x-python",
   "name": "python",
   "nbconvert_exporter": "python",
   "pygments_lexer": "ipython3",
   "version": "3.6.0"
  }
 },
 "nbformat": 4,
 "nbformat_minor": 2
}
