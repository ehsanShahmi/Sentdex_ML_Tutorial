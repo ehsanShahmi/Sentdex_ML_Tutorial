{
 "cells": [
  {
   "cell_type": "code",
   "execution_count": 1,
   "metadata": {
    "collapsed": false
   },
   "outputs": [
    {
     "name": "stderr",
     "output_type": "stream",
     "text": [
      "C:\\Users\\User\\Anaconda3\\lib\\site-packages\\sklearn\\cross_validation.py:44: DeprecationWarning: This module was deprecated in version 0.18 in favor of the model_selection module into which all the refactored classes and functions are moved. Also note that the interface of the new CV iterators are different from that of this module. This module will be removed in 0.20.\n",
      "  \"This module will be removed in 0.20.\", DeprecationWarning)\n"
     ]
    },
    {
     "name": "stdout",
     "output_type": "stream",
     "text": [
      "100\n",
      "0.0145942722065\n"
     ]
    }
   ],
   "source": [
    "import pandas as pd\n",
    "import quandl, math\n",
    "from datetime import datetime, date, time, timedelta\n",
    "import time\n",
    "import numpy as np\n",
    "\n",
    "from sklearn import preprocessing, cross_validation, svm\n",
    "from sklearn.linear_model import LinearRegression\n",
    "\n",
    "import matplotlib.pyplot as plt  #plot stuff, how to plot in graph\n",
    "from matplotlib import style     #nice looking thing \n",
    "style.use('ggplot')              #which nice-looking-thing i wanna use\n",
    "\n",
    "quandl.ApiConfig.api_key = 'sTWktYRdKfufsd_3NvfG'\n",
    "\n",
    "df = quandl.get_table('WIKI/PRICES')\n",
    "#print (df.head())\n",
    "\n",
    "df = df [['adj_open','adj_high','adj_low','adj_close','adj_volume']]\n",
    "df['HL_PCT'] = (df['adj_high'] - df['adj_close']) / df['adj_close'] * 100.0\n",
    "df['PCT_change'] = (df['adj_close'] - df['adj_open']) / df['adj_open'] * 100.0\n",
    "df = df [['adj_close','HL_PCT','PCT_change','adj_volume']]\n",
    "\n",
    "forecast_col = 'adj_close' #এইখানে যেকোন কিছু variable ধরা যাবে instead of 'adj_close', \n",
    "                           #that is যেই columnটাকে forecast করতে চাই সেটা\n",
    "df.fillna(-99999, inplace=True)\n",
    "\n",
    "forecast_out = int(math.ceil(0.01*len(df)))\n",
    "print (forecast_out)\n",
    "\n",
    "df['label'] = df[forecast_col].shift(-forecast_out)\n",
    "\n",
    "X = np.array(df.drop(['label','adj_close'],1)) \n",
    "X = preprocessing.scale(X)\n",
    "X_lately = X[-forecast_out:]    #stuff we are predicting against;i.e. need to find the values of y corresponding to these predictors\n",
    "                                #required to find the m & b of linear regression equation\n",
    "X = X[:-forecast_out]\n",
    "\n",
    "df.dropna(inplace=True)\n",
    "y = np.array(df['label'])\n",
    "y = np.array(df['label'])\n",
    "\n",
    "X_train, X_test, y_train, y_test = cross_validation.train_test_split(X, y, test_size=0.2)\n",
    "clf = LinearRegression(n_jobs=-1)\n",
    "clf.fit(X_train, y_train) #train the classifier on 2 different data, instead of one for being better\n",
    "accuracy = clf.score(X_test, y_test) #test the classifier to find its accuracy\n",
    "\n",
    "print (accuracy)"
   ]
  },
  {
   "cell_type": "code",
   "execution_count": 2,
   "metadata": {
    "collapsed": false
   },
   "outputs": [
    {
     "name": "stdout",
     "output_type": "stream",
     "text": [
      "[  69.65351344   69.58993973   69.71095229   69.52636602   69.08135005\n",
      "   69.62808396   69.52636602   71.61459314   68.82355591   75.97641709\n",
      "   84.37105987   69.25935644   69.69165767   64.93401906   82.9876694\n",
      "   84.28812359   69.62808396   80.88726085   69.59651961   69.71708715\n",
      "   81.88201081   69.71095229   69.6855228    56.91992194   76.53756775\n",
      "   73.58122037   69.28478592   69.65351344  101.89934769   69.56451025\n",
      "   85.56257433   78.45001182   68.22193017   69.01639911   69.65351344\n",
      "   69.19640974   69.69823754   67.40435693   69.11335942   68.20074827\n",
      "   81.79827977   68.21193194   69.71708715   76.75471683   83.47403294\n",
      "   75.73274268   80.38681948   69.65351344   69.57722499   69.6855228\n",
      "   69.71708715   69.70437241   73.65035985   69.64737858   69.69823754\n",
      "   69.71708715   68.51053948   77.81225981   69.71708715   69.71708715\n",
      "   69.6855228    69.52636602   69.6855228    73.57748519   69.55837538\n",
      "   73.40609026   69.69165767   69.69165767   69.71708715   73.22808388\n",
      "   69.71095229   69.4882218    69.60923435   69.6855228    69.15977343\n",
      "   69.71095229   69.67894292   69.67894292   69.71708715   69.66009332\n",
      "   69.6855228    81.55143779   69.55837538   69.71708715   85.02564735\n",
      "   69.71708715   69.66009332   69.66009332   73.10349709   69.58993973\n",
      "   69.71095229  103.79284338   74.78771588   69.71708715   69.6855228\n",
      "   69.65351344   69.71708715   69.71708715   69.71708715   69.65351344] 0.0145942722065 100\n"
     ]
    }
   ],
   "source": [
    "forecast_set = clf.predict(X_lately) #classifier.predict() can take both a single value or a list\n",
    "print (forecast_set, accuracy, forecast_out)"
   ]
  },
  {
   "cell_type": "markdown",
   "metadata": {},
   "source": [
    "#### list er moddhe ja ja ase, shegula holo je the predicted values of y,found by the classfier, for the next 100 days with that accuracy of the classifier\n",
    "\n",
    "#### scaling comes to a great help also here, since all values are positive"
   ]
  },
  {
   "cell_type": "markdown",
   "metadata": {},
   "source": [
    "\n",
    "    import matplotlib.pyplot as plt  #plot stuff, how to plot\n",
    "\n",
    "    from matplotlib import style     #nice looking thing \n",
    "    \n",
    "    style.use('ggplot')              #which nice-looking-thing i wanna use \n",
    "    \n",
    "#### eigula use kora hoise so that we can grab the resulting predicted values that we have found in the previous cell"
   ]
  },
  {
   "cell_type": "code",
   "execution_count": 3,
   "metadata": {
    "collapsed": true
   },
   "outputs": [],
   "source": [
    "df['Forecast'] = np.nan    #an entire column with name 'Forecast' filled with nan data"
   ]
  },
  {
   "cell_type": "code",
   "execution_count": 4,
   "metadata": {
    "collapsed": false
   },
   "outputs": [
    {
     "name": "stdout",
     "output_type": "stream",
     "text": [
      "<class 'numpy.float64'>\n"
     ]
    }
   ],
   "source": [
    "last_date= df.index.max()\n",
    "next_unix= last_date + timedelta(days=1).total_seconds()\n",
    "print (type(next_unix))"
   ]
  },
  {
   "cell_type": "markdown",
   "metadata": {},
   "source": [
    "#### These are done to create/initialize the dates as to be plotted as the x-axis......see copy for more info on prediction"
   ]
  },
  {
   "cell_type": "code",
   "execution_count": 5,
   "metadata": {
    "collapsed": false
   },
   "outputs": [],
   "source": [
    "for i in forecast_set:\n",
    "    next_date = datetime.fromtimestamp(next_unix)\n",
    "    next_unix += 86400\n",
    "    df.loc[next_date] = [np.nan for _ in range(len(df.columns)-1)] + [i]"
   ]
  },
  {
   "cell_type": "markdown",
   "metadata": {},
   "source": [
    "#### this for loop is to fill in the 'dates' from the dataframe\n",
    "#### df.loc[next_date] ==>> next_date as an index in the dataframe where the 'nan' values and the forcase_set is written"
   ]
  },
  {
   "cell_type": "code",
   "execution_count": 6,
   "metadata": {
    "collapsed": false
   },
   "outputs": [
    {
     "data": {
      "image/png": "[encoded data removed]",
      "text/plain": [
       "<matplotlib.figure.Figure at 0x1d9987b93c8>"
      ]
     },
     "metadata": {},
     "output_type": "display_data"
    }
   ],
   "source": [
    "df['adj_close'].plot()\n",
    "df['Forecast'].plot()\n",
    "plt.legend(loc=4)                    #just the bottom right\n",
    "plt.xlabel('Dates')\n",
    "plt.ylabel('Prices')\n",
    "plt.show()                           #plotting the graph just"
   ]
  },
  {
   "cell_type": "code",
   "execution_count": null,
   "metadata": {
    "collapsed": true
   },
   "outputs": [],
   "source": []
  }
 ],
 "metadata": {
  "kernelspec": {
   "display_name": "Python 3",
   "language": "python",
   "name": "python3"
  },
  "language_info": {
   "codemirror_mode": {
    "name": "ipython",
    "version": 3
   },
   "file_extension": ".py",
   "mimetype": "text/x-python",
   "name": "python",
   "nbconvert_exporter": "python",
   "pygments_lexer": "ipython3",
   "version": "3.6.0"
  }
 },
 "nbformat": 4,
 "nbformat_minor": 2
}
