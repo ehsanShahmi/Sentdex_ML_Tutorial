{
 "cells": [
  {
   "cell_type": "code",
   "execution_count": 1,
   "metadata": {
    "collapsed": false
   },
   "outputs": [
    {
     "name": "stderr",
     "output_type": "stream",
     "text": [
      "C:\\Users\\User\\Anaconda3\\lib\\site-packages\\sklearn\\cross_validation.py:44: DeprecationWarning: This module was deprecated in version 0.18 in favor of the model_selection module into which all the refactored classes and functions are moved. Also note that the interface of the new CV iterators are different from that of this module. This module will be removed in 0.20.\n",
      "  \"This module will be removed in 0.20.\", DeprecationWarning)\n"
     ]
    },
    {
     "name": "stdout",
     "output_type": "stream",
     "text": [
      "100\n",
      "0.0230547837307\n"
     ]
    }
   ],
   "source": [
    "import pandas as pd\n",
    "import quandl, math\n",
    "from datetime import datetime, date, time, timedelta\n",
    "import time\n",
    "import numpy as np\n",
    "\n",
    "from sklearn import preprocessing, cross_validation, svm\n",
    "from sklearn.linear_model import LinearRegression\n",
    "\n",
    "import matplotlib.pyplot as plt  #plot stuff, how to plot in graph\n",
    "plt.rcParams[\"figure.figsize\"] = \"12,10\"\n",
    "from matplotlib import style     #nice looking thing \n",
    "style.use('ggplot')              #which nice-looking-thing i wanna use\n",
    "\n",
    "quandl.ApiConfig.api_key = 'sTWktYRdKfufsd_3NvfG'\n",
    "\n",
    "df = quandl.get_table('WIKI/PRICES')\n",
    "#print (df.head())\n",
    "\n",
    "df = df [['adj_open','adj_high','adj_low','adj_close','adj_volume']]\n",
    "df['HL_PCT'] = (df['adj_high'] - df['adj_close']) / df['adj_close'] * 100.0\n",
    "df['PCT_change'] = (df['adj_close'] - df['adj_open']) / df['adj_open'] * 100.0\n",
    "df = df [['adj_close','HL_PCT','PCT_change','adj_volume']]\n",
    "\n",
    "forecast_col = 'adj_close' #এইখানে যেকোন কিছু variable ধরা যাবে instead of 'adj_close', \n",
    "                           #that is যেই columnটাকে forecast করতে চাই সেটা\n",
    "df.fillna(-99999, inplace=True)\n",
    "\n",
    "forecast_out = int(math.ceil(0.01*len(df)))\n",
    "print (forecast_out)\n",
    "\n",
    "df['label'] = df[forecast_col].shift(-forecast_out)\n",
    "\n",
    "X = np.array(df.drop(['label','adj_close'],1)) \n",
    "X = preprocessing.scale(X)\n",
    "X_lately = X[-forecast_out:]    #stuff we are predicting against;i.e. need to find the values of y corresponding to these predictors\n",
    "                                #required to find the m & b of linear regression equation\n",
    "X = X[:-forecast_out]\n",
    "\n",
    "df.dropna(inplace=True)\n",
    "y = np.array(df['label'])\n",
    "y = np.array(df['label'])\n",
    "\n",
    "X_train, X_test, y_train, y_test = cross_validation.train_test_split(X, y, test_size=0.2)\n",
    "clf = LinearRegression(n_jobs=-1)\n",
    "clf.fit(X_train, y_train) #train the classifier on 2 different data, instead of one for being better\n",
    "accuracy = clf.score(X_test, y_test) #test the classifier to find its accuracy\n",
    "\n",
    "print (accuracy)"
   ]
  },
  {
   "cell_type": "code",
   "execution_count": 2,
   "metadata": {
    "collapsed": false
   },
   "outputs": [
    {
     "name": "stdout",
     "output_type": "stream",
     "text": [
      "[ 82.69126113  65.94428158  80.76911672  76.77620642  65.90040693\n",
      "  70.11014905  65.81833392  76.05309095  82.3041198   85.8720413\n",
      "  73.8330228   75.95797128  71.46101884  66.18898745  71.31510392\n",
      "  74.5963567   65.86220857  68.351025    65.94428158  65.94428158\n",
      "  71.63681213  71.13080229  65.87846961  65.74155329  65.91137559\n",
      "  68.85558344  65.88943827  65.82930258  65.92234425  77.74819668\n",
      "  71.27459899  65.69767864  65.49564486  65.87846961  66.64822598\n",
      "  72.33069498  71.94275504  66.39537305  78.57211851  65.62619039\n",
      "  66.30922431  72.02918836  65.84556362  65.92234425  65.94428158\n",
      "  78.15387362  78.14858124  65.86220857  71.68990391  71.71902174\n",
      "  67.9048325   70.91091617  70.7242983   74.53641574  65.48927407\n",
      "  65.36033666  66.05005216  72.34993776  65.88943827  65.94428158\n",
      "  65.91705188  65.88943827  85.42126347  65.91705188  65.52128495\n",
      "  65.37563245  72.43501806  72.9861163   65.88943827  79.33163296\n",
      "  65.55508604  65.90212821  65.77975165  65.01762161  65.92234425\n",
      "  80.07708011  80.06653329  65.93331292  65.8236263   65.86220857\n",
      "  65.88943827  65.83459496  65.9389892   65.77975165  65.39584849\n",
      "  65.86750095  65.77975165  68.88531478  65.99902156  73.24473266\n",
      "  80.78732667  65.54940976  65.92234425  64.65658146  82.50936205\n",
      "  81.77782039  65.86750095  78.32266506  65.84027124  65.94428158] 0.0230547837307 100\n"
     ]
    }
   ],
   "source": [
    "forecast_set = clf.predict(X_lately) #classifier.predict() can take both a single value or a list\n",
    "print (forecast_set, accuracy, forecast_out)"
   ]
  },
  {
   "cell_type": "markdown",
   "metadata": {},
   "source": [
    "#### list er moddhe ja ja ase, shegula holo je the predicted values of y,found by the classfier, for the next 100 days with that accuracy of the classifier\n",
    "\n",
    "#### scaling comes to a great help also here, since all values are positive"
   ]
  },
  {
   "cell_type": "markdown",
   "metadata": {},
   "source": [
    "\n",
    "    import matplotlib.pyplot as plt  #plot stuff, how to plot\n",
    "\n",
    "    from matplotlib import style     #nice looking thing \n",
    "    \n",
    "    style.use('ggplot')              #which nice-looking-thing i wanna use \n",
    "    \n",
    "#### eigula use kora hoise so that we can grab the resulting predicted values that we have found in the previous cell"
   ]
  },
  {
   "cell_type": "code",
   "execution_count": 3,
   "metadata": {
    "collapsed": true
   },
   "outputs": [],
   "source": [
    "df['Forecast'] = np.nan    #an entire column with name 'Forecast' filled with nan data"
   ]
  },
  {
   "cell_type": "code",
   "execution_count": 4,
   "metadata": {
    "collapsed": false
   },
   "outputs": [
    {
     "name": "stdout",
     "output_type": "stream",
     "text": [
      "<class 'numpy.float64'>\n"
     ]
    }
   ],
   "source": [
    "last_date= df.index.max()\n",
    "next_unix= last_date + timedelta(days=1).total_seconds()\n",
    "print (type(next_unix))"
   ]
  },
  {
   "cell_type": "markdown",
   "metadata": {},
   "source": [
    "#### These are done to create/initialize the dates as to be plotted as the x-axis......see copy for more info on prediction"
   ]
  },
  {
   "cell_type": "code",
   "execution_count": 5,
   "metadata": {
    "collapsed": false
   },
   "outputs": [],
   "source": [
    "for i in forecast_set:\n",
    "    next_date = datetime.fromtimestamp(next_unix)\n",
    "    next_unix += 86400\n",
    "    df.loc[next_date] = [np.nan for _ in range(len(df.columns)-1)] + [i]"
   ]
  },
  {
   "cell_type": "markdown",
   "metadata": {},
   "source": [
    "#### this for loop is to fill in the 'dates' from the dataframe\n",
    "#### df.loc[next_date] ==>> next_date as an index in the dataframe where the 'nan' values and the forcase_set is written"
   ]
  },
  {
   "cell_type": "code",
   "execution_count": 7,
   "metadata": {
    "collapsed": false
   },
   "outputs": [
    {
     "data": {
      "image/png": "[encoded data removed]",
      "text/plain": [
       "<matplotlib.figure.Figure at 0x25a128a8978>"
      ]
     },
     "metadata": {},
     "output_type": "display_data"
    }
   ],
   "source": [
    "df['adj_close'].plot()\n",
    "df['Forecast'].plot()\n",
    "plt.legend(loc=1)                    #keys on just the top right\n",
    "plt.xlabel('Dates')\n",
    "plt.ylabel('Prices')\n",
    "plt.show()                           #plotting the graph just"
   ]
  },
  {
   "cell_type": "code",
   "execution_count": null,
   "metadata": {
    "collapsed": true
   },
   "outputs": [],
   "source": []
  }
 ],
 "metadata": {
  "kernelspec": {
   "display_name": "Python 3",
   "language": "python",
   "name": "python3"
  },
  "language_info": {
   "codemirror_mode": {
    "name": "ipython",
    "version": 3
   },
   "file_extension": ".py",
   "mimetype": "text/x-python",
   "name": "python",
   "nbconvert_exporter": "python",
   "pygments_lexer": "ipython3",
   "version": "3.6.0"
  }
 },
 "nbformat": 4,
 "nbformat_minor": 2
}
