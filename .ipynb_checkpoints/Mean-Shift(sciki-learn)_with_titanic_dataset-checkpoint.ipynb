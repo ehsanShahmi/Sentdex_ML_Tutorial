{
 "cells": [
  {
   "cell_type": "code",
   "execution_count": 8,
   "metadata": {
    "collapsed": false
   },
   "outputs": [],
   "source": [
    "import matplotlib.pyplot as plt\n",
    "from matplotlib import style\n",
    "style.use('ggplot')\n",
    "import numpy as np\n",
    "from sklearn.cluster import MeanShift\n",
    "from sklearn import preprocessing, cross_validation\n",
    "import pandas as pd"
   ]
  },
  {
   "cell_type": "code",
   "execution_count": 9,
   "metadata": {
    "collapsed": false
   },
   "outputs": [
    {
     "name": "stdout",
     "output_type": "stream",
     "text": [
      "   pclass  survived                                             name     sex  \\\n",
      "0       1         1                    Allen, Miss. Elisabeth Walton  female   \n",
      "1       1         1                   Allison, Master. Hudson Trevor    male   \n",
      "2       1         0                     Allison, Miss. Helen Loraine  female   \n",
      "3       1         0             Allison, Mr. Hudson Joshua Creighton    male   \n",
      "4       1         0  Allison, Mrs. Hudson J C (Bessie Waldo Daniels)  female   \n",
      "\n",
      "       age  sibsp  parch  ticket      fare    cabin embarked boat   body  \\\n",
      "0  29.0000      0      0   24160  211.3375       B5        S    2    NaN   \n",
      "1   0.9167      1      2  113781  151.5500  C22 C26        S   11    NaN   \n",
      "2   2.0000      1      2  113781  151.5500  C22 C26        S  NaN    NaN   \n",
      "3  30.0000      1      2  113781  151.5500  C22 C26        S  NaN  135.0   \n",
      "4  25.0000      1      2  113781  151.5500  C22 C26        S  NaN    NaN   \n",
      "\n",
      "                         home.dest  \n",
      "0                     St Louis, MO  \n",
      "1  Montreal, PQ / Chesterville, ON  \n",
      "2  Montreal, PQ / Chesterville, ON  \n",
      "3  Montreal, PQ / Chesterville, ON  \n",
      "4  Montreal, PQ / Chesterville, ON  \n"
     ]
    }
   ],
   "source": [
    "df = pd.read_excel('titanic.xls')\n",
    "original_df = pd.DataFrame.copy(df)                  #we just made a copy of the original dataframe & saved it otherwise\n",
    "print (df.head())"
   ]
  },
  {
   "cell_type": "code",
   "execution_count": 10,
   "metadata": {
    "collapsed": false
   },
   "outputs": [
    {
     "name": "stdout",
     "output_type": "stream",
     "text": [
      "   pclass  survived     sex      age  sibsp  parch  ticket      fare    cabin  \\\n",
      "0       1         1  female  29.0000      0      0   24160  211.3375       B5   \n",
      "1       1         1    male   0.9167      1      2  113781  151.5500  C22 C26   \n",
      "2       1         0  female   2.0000      1      2  113781  151.5500  C22 C26   \n",
      "3       1         0    male  30.0000      1      2  113781  151.5500  C22 C26   \n",
      "4       1         0  female  25.0000      1      2  113781  151.5500  C22 C26   \n",
      "\n",
      "  embarked boat                        home.dest  \n",
      "0        S    2                     St Louis, MO  \n",
      "1        S   11  Montreal, PQ / Chesterville, ON  \n",
      "2        S    0  Montreal, PQ / Chesterville, ON  \n",
      "3        S    0  Montreal, PQ / Chesterville, ON  \n",
      "4        S    0  Montreal, PQ / Chesterville, ON  \n"
     ]
    },
    {
     "name": "stderr",
     "output_type": "stream",
     "text": [
      "C:\\Users\\User\\Anaconda3\\lib\\site-packages\\ipykernel\\__main__.py:2: FutureWarning: convert_objects is deprecated.  Use the data-type specific converters pd.to_datetime, pd.to_timedelta and pd.to_numeric.\n",
      "  from ipykernel import kernelapp as app\n"
     ]
    }
   ],
   "source": [
    "df.drop(['body','name'], 1, inplace=True)           #removing unnecessary columns\n",
    "df.convert_objects(convert_numeric=True)\n",
    "df.fillna(0, inplace=True)\n",
    "print (df.head())"
   ]
  },
  {
   "cell_type": "code",
   "execution_count": 11,
   "metadata": {
    "collapsed": true
   },
   "outputs": [],
   "source": [
    "# a function to handle all non-numeric data from the dataset \n",
    "def handle_non_numerical_data(df):\n",
    "    columns = df.columns.values                    #all the columns' name in 'columns variable'\n",
    "    for column in columns:\n",
    "        text_digit_vals = {}                       #a dictionary to store the column-values as numerical\n",
    "        \n",
    "        def convert_to_int(val):                   #a function to store the unique values in the dictionary\n",
    "            return text_digit_vals[val]\n",
    "        \n",
    "                                                   #storing the uniques values inside each column and \n",
    "                                                   #giving a value to be stored in the dictionary\n",
    "        if df[column].dtype != np.int64 and df[column].dtype != np.float64:\n",
    "            column_contents = df[column].values.tolist() #taking whole column as a list\n",
    "            unique_elements = set(column_contents)       #finding how many unique values in each column\n",
    "            x = 0\n",
    "            for unique in unique_elements:               #giving each unique value a number and storing in the dict\n",
    "                if unique not in text_digit_vals: \n",
    "                    text_digit_vals[unique] = x\n",
    "                    x += 1\n",
    "            \n",
    "            df[column] = list(map(convert_to_int, df[column]))  #mapping using the funtion convert_to_int() \n",
    "    return df"
   ]
  },
  {
   "cell_type": "code",
   "execution_count": 12,
   "metadata": {
    "collapsed": false
   },
   "outputs": [
    {
     "name": "stdout",
     "output_type": "stream",
     "text": [
      "   pclass  survived  sex      age  sibsp  parch  ticket      fare  cabin  \\\n",
      "0       1         1    1  29.0000      0      0     771  211.3375     79   \n",
      "1       1         1    0   0.9167      1      2     531  151.5500    137   \n",
      "2       1         0    1   2.0000      1      2     531  151.5500    137   \n",
      "3       1         0    0  30.0000      1      2     531  151.5500    137   \n",
      "4       1         0    1  25.0000      1      2     531  151.5500    137   \n",
      "\n",
      "   embarked  boat  home.dest  \n",
      "0         1     1         98  \n",
      "1         1     3         63  \n",
      "2         1     0         63  \n",
      "3         1     0         63  \n",
      "4         1     0         63  \n"
     ]
    }
   ],
   "source": [
    "df = handle_non_numerical_data(df)\n",
    "print(df.head())"
   ]
  },
  {
   "cell_type": "code",
   "execution_count": 13,
   "metadata": {
    "collapsed": false
   },
   "outputs": [
    {
     "name": "stdout",
     "output_type": "stream",
     "text": [
      "   pclass  survived      age  sibsp  parch  ticket      fare  cabin  embarked  \\\n",
      "0       1         1  29.0000      0      0     771  211.3375     79         1   \n",
      "1       1         1   0.9167      1      2     531  151.5500    137         1   \n",
      "2       1         0   2.0000      1      2     531  151.5500    137         1   \n",
      "3       1         0  30.0000      1      2     531  151.5500    137         1   \n",
      "4       1         0  25.0000      1      2     531  151.5500    137         1   \n",
      "\n",
      "   home.dest  \n",
      "0         98  \n",
      "1         63  \n",
      "2         63  \n",
      "3         63  \n",
      "4         63  \n"
     ]
    }
   ],
   "source": [
    "#try kore kore dekha jay, which column has how much effect on clustering accuracy\n",
    "df.drop(['boat','sex'], 1, inplace=True)\n",
    "print (df.head())"
   ]
  },
  {
   "cell_type": "code",
   "execution_count": 50,
   "metadata": {
    "collapsed": false
   },
   "outputs": [
    {
     "data": {
      "text/plain": [
       "MeanShift(bandwidth=None, bin_seeding=False, cluster_all=True, min_bin_freq=1,\n",
       "     n_jobs=1, seeds=None)"
      ]
     },
     "execution_count": 50,
     "metadata": {},
     "output_type": "execute_result"
    }
   ],
   "source": [
    "X = np.array(df.drop(['survived'], 1).astype(float))   \n",
    "X = preprocessing.scale(X)                             \n",
    "y = np.array(df['survived'])\n",
    "\n",
    "clf = MeanShift()                 \n",
    "clf.fit(X)                                 "
   ]
  },
  {
   "cell_type": "code",
   "execution_count": 51,
   "metadata": {
    "collapsed": false
   },
   "outputs": [],
   "source": [
    "labels = clf.labels_                     #giving the labels' their names\n",
    "cluster_centers = clf.cluster_centers_\n",
    "#print (labels)"
   ]
  },
  {
   "cell_type": "code",
   "execution_count": 52,
   "metadata": {
    "collapsed": true
   },
   "outputs": [],
   "source": [
    "original_df['cluster_group'] = np.nan    #making a new column in the copy"
   ]
  },
  {
   "cell_type": "code",
   "execution_count": 53,
   "metadata": {
    "collapsed": false
   },
   "outputs": [
    {
     "name": "stderr",
     "output_type": "stream",
     "text": [
      "C:\\Users\\User\\Anaconda3\\lib\\site-packages\\pandas\\core\\indexing.py:179: SettingWithCopyWarning: \n",
      "A value is trying to be set on a copy of a slice from a DataFrame\n",
      "\n",
      "See the caveats in the documentation: http://pandas.pydata.org/pandas-docs/stable/indexing.html#indexing-view-versus-copy\n",
      "  self._setitem_with_indexer(indexer, value)\n"
     ]
    }
   ],
   "source": [
    "#now we iterate thru the labels and populate the values of this new created-column\n",
    "for i in range(len(X)):\n",
    "    original_df['cluster_group'].iloc[i] = labels[i]                   #column'er jei row, tar label'tai cluster-group\n",
    "    #print(labels[i])"
   ]
  },
  {
   "cell_type": "code",
   "execution_count": 54,
   "metadata": {
    "collapsed": false
   },
   "outputs": [
    {
     "name": "stdout",
     "output_type": "stream",
     "text": [
      "7\n"
     ]
    }
   ],
   "source": [
    "n_clusters_ = len(np.unique(labels))     #finding the number of clusters, i.e. no. of unique labels in df\n",
    "print (n_clusters_)"
   ]
  },
  {
   "cell_type": "code",
   "execution_count": 55,
   "metadata": {
    "collapsed": false
   },
   "outputs": [
    {
     "name": "stdout",
     "output_type": "stream",
     "text": [
      "{0: 0.3826860841423948, 1: 0.0, 2: 0.6, 3: 1.0, 4: 0.5, 5: 0.0, 6: 1.0}\n"
     ]
    }
   ],
   "source": [
    "survival_rates = {}\n",
    "for i in range(n_clusters_):\n",
    "    temp_df = original_df[ (original_df['cluster_group']==float(i)) ]\n",
    "    survival_cluster = temp_df[ (temp_df['survived']==1) ]\n",
    "    survival_rate = len(survival_cluster) / len(temp_df) \n",
    "                                        #survival rate pawar jnno ei 2ta df use korlum, can b diffrnt ways to find this rate\n",
    "    survival_rates[i] = survival_rate   #lastly storing that rate for that cluster_grp\n",
    "\n",
    "print (survival_rates)"
   ]
  },
  {
   "cell_type": "code",
   "execution_count": 61,
   "metadata": {
    "collapsed": false
   },
   "outputs": [
    {
     "name": "stdout",
     "output_type": "stream",
     "text": [
      "            pclass     survived         age        sibsp        parch  \\\n",
      "count  1236.000000  1236.000000  983.000000  1236.000000  1236.000000   \n",
      "mean      2.317961     0.382686   29.895982     0.385113     0.283172   \n",
      "std       0.821789     0.486239   14.132032     0.716879     0.633025   \n",
      "min       1.000000     0.000000    0.166700     0.000000     0.000000   \n",
      "25%       2.000000     0.000000   21.000000     0.000000     0.000000   \n",
      "50%       3.000000     0.000000   28.000000     0.000000     0.000000   \n",
      "75%       3.000000     1.000000   38.000000     1.000000     0.000000   \n",
      "max       3.000000     1.000000   80.000000     4.000000     4.000000   \n",
      "\n",
      "              fare        body  cluster_group  \n",
      "count  1235.000000  114.000000         1236.0  \n",
      "mean     25.774817  162.473684            0.0  \n",
      "std      30.340357   98.152871            0.0  \n",
      "min       0.000000    1.000000            0.0  \n",
      "25%       7.895800   72.750000            0.0  \n",
      "50%      13.000000  165.500000            0.0  \n",
      "75%      27.720800  257.500000            0.0  \n",
      "max     227.525000  328.000000            0.0  \n"
     ]
    }
   ],
   "source": [
    "print (original_df[(original_df['cluster_group']==0)].describe())"
   ]
  },
  {
   "cell_type": "markdown",
   "metadata": {},
   "source": [
    "### amader eikhne 6ta cluster create hoise based on the survival and also some other parameters(unknown to the programmer) .....so no. of clusters is diff than in video"
   ]
  },
  {
   "cell_type": "markdown",
   "metadata": {},
   "source": [
    "### jodi prosno hoy j What is the survival_rate of male passengers in cluster 0? then :"
   ]
  },
  {
   "cell_type": "code",
   "execution_count": 63,
   "metadata": {
    "collapsed": false
   },
   "outputs": [
    {
     "data": {
      "text/html": [
       "<div>\n",
       "<style>\n",
       "    .dataframe thead tr:only-child th {\n",
       "        text-align: right;\n",
       "    }\n",
       "\n",
       "    .dataframe thead th {\n",
       "        text-align: left;\n",
       "    }\n",
       "\n",
       "    .dataframe tbody tr th {\n",
       "        vertical-align: top;\n",
       "    }\n",
       "</style>\n",
       "<table border=\"1\" class=\"dataframe\">\n",
       "  <thead>\n",
       "    <tr style=\"text-align: right;\">\n",
       "      <th></th>\n",
       "      <th>pclass</th>\n",
       "      <th>survived</th>\n",
       "      <th>age</th>\n",
       "      <th>sibsp</th>\n",
       "      <th>parch</th>\n",
       "      <th>fare</th>\n",
       "      <th>body</th>\n",
       "      <th>cluster_group</th>\n",
       "    </tr>\n",
       "  </thead>\n",
       "  <tbody>\n",
       "    <tr>\n",
       "      <th>count</th>\n",
       "      <td>811.000000</td>\n",
       "      <td>811.000000</td>\n",
       "      <td>631.000000</td>\n",
       "      <td>811.000000</td>\n",
       "      <td>811.000000</td>\n",
       "      <td>810.000000</td>\n",
       "      <td>107.000000</td>\n",
       "      <td>811.0</td>\n",
       "    </tr>\n",
       "    <tr>\n",
       "      <th>mean</th>\n",
       "      <td>2.384710</td>\n",
       "      <td>0.193588</td>\n",
       "      <td>30.711833</td>\n",
       "      <td>0.315660</td>\n",
       "      <td>0.172626</td>\n",
       "      <td>21.336634</td>\n",
       "      <td>163.700935</td>\n",
       "      <td>0.0</td>\n",
       "    </tr>\n",
       "    <tr>\n",
       "      <th>std</th>\n",
       "      <td>0.801211</td>\n",
       "      <td>0.395354</td>\n",
       "      <td>13.936842</td>\n",
       "      <td>0.696722</td>\n",
       "      <td>0.486652</td>\n",
       "      <td>25.037497</td>\n",
       "      <td>96.244992</td>\n",
       "      <td>0.0</td>\n",
       "    </tr>\n",
       "    <tr>\n",
       "      <th>min</th>\n",
       "      <td>1.000000</td>\n",
       "      <td>0.000000</td>\n",
       "      <td>0.333300</td>\n",
       "      <td>0.000000</td>\n",
       "      <td>0.000000</td>\n",
       "      <td>0.000000</td>\n",
       "      <td>1.000000</td>\n",
       "      <td>0.0</td>\n",
       "    </tr>\n",
       "    <tr>\n",
       "      <th>25%</th>\n",
       "      <td>2.000000</td>\n",
       "      <td>0.000000</td>\n",
       "      <td>21.000000</td>\n",
       "      <td>0.000000</td>\n",
       "      <td>0.000000</td>\n",
       "      <td>7.854200</td>\n",
       "      <td>79.500000</td>\n",
       "      <td>0.0</td>\n",
       "    </tr>\n",
       "    <tr>\n",
       "      <th>50%</th>\n",
       "      <td>3.000000</td>\n",
       "      <td>0.000000</td>\n",
       "      <td>28.000000</td>\n",
       "      <td>0.000000</td>\n",
       "      <td>0.000000</td>\n",
       "      <td>10.500000</td>\n",
       "      <td>166.000000</td>\n",
       "      <td>0.0</td>\n",
       "    </tr>\n",
       "    <tr>\n",
       "      <th>75%</th>\n",
       "      <td>3.000000</td>\n",
       "      <td>0.000000</td>\n",
       "      <td>39.000000</td>\n",
       "      <td>0.000000</td>\n",
       "      <td>0.000000</td>\n",
       "      <td>26.000000</td>\n",
       "      <td>257.000000</td>\n",
       "      <td>0.0</td>\n",
       "    </tr>\n",
       "    <tr>\n",
       "      <th>max</th>\n",
       "      <td>3.000000</td>\n",
       "      <td>1.000000</td>\n",
       "      <td>80.000000</td>\n",
       "      <td>4.000000</td>\n",
       "      <td>4.000000</td>\n",
       "      <td>227.525000</td>\n",
       "      <td>322.000000</td>\n",
       "      <td>0.0</td>\n",
       "    </tr>\n",
       "  </tbody>\n",
       "</table>\n",
       "</div>"
      ],
      "text/plain": [
       "           pclass    survived         age       sibsp       parch        fare  \\\n",
       "count  811.000000  811.000000  631.000000  811.000000  811.000000  810.000000   \n",
       "mean     2.384710    0.193588   30.711833    0.315660    0.172626   21.336634   \n",
       "std      0.801211    0.395354   13.936842    0.696722    0.486652   25.037497   \n",
       "min      1.000000    0.000000    0.333300    0.000000    0.000000    0.000000   \n",
       "25%      2.000000    0.000000   21.000000    0.000000    0.000000    7.854200   \n",
       "50%      3.000000    0.000000   28.000000    0.000000    0.000000   10.500000   \n",
       "75%      3.000000    0.000000   39.000000    0.000000    0.000000   26.000000   \n",
       "max      3.000000    1.000000   80.000000    4.000000    4.000000  227.525000   \n",
       "\n",
       "             body  cluster_group  \n",
       "count  107.000000          811.0  \n",
       "mean   163.700935            0.0  \n",
       "std     96.244992            0.0  \n",
       "min      1.000000            0.0  \n",
       "25%     79.500000            0.0  \n",
       "50%    166.000000            0.0  \n",
       "75%    257.000000            0.0  \n",
       "max    322.000000            0.0  "
      ]
     },
     "execution_count": 63,
     "metadata": {},
     "output_type": "execute_result"
    }
   ],
   "source": [
    "cluster_0 = original_df[ (original_df['cluster_group']==0) ]\n",
    "cluster_0_fc = cluster_0[ (cluster_0['sex']=='male') ]\n",
    "cluster_0_fc.describe()"
   ]
  },
  {
   "cell_type": "code",
   "execution_count": null,
   "metadata": {
    "collapsed": true
   },
   "outputs": [],
   "source": []
  }
 ],
 "metadata": {
  "kernelspec": {
   "display_name": "Python 3",
   "language": "python",
   "name": "python3"
  },
  "language_info": {
   "codemirror_mode": {
    "name": "ipython",
    "version": 3
   },
   "file_extension": ".py",
   "mimetype": "text/x-python",
   "name": "python",
   "nbconvert_exporter": "python",
   "pygments_lexer": "ipython3",
   "version": "3.6.0"
  }
 },
 "nbformat": 4,
 "nbformat_minor": 2
}
