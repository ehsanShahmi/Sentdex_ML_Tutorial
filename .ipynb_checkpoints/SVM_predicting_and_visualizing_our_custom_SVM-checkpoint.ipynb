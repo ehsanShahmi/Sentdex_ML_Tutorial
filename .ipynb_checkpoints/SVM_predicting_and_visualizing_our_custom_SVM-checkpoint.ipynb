{
 "cells": [
  {
   "cell_type": "markdown",
   "metadata": {},
   "source": [
    "### Here, we r gonna finish our predict() method and add another function to test if we r right or wrong in our classification, and finally test our entire SVM classification on the data"
   ]
  },
  {
   "cell_type": "code",
   "execution_count": 7,
   "metadata": {
    "collapsed": true
   },
   "outputs": [],
   "source": [
    "import matplotlib.pyplot as plt\n",
    "from matplotlib import style\n",
    "import numpy as np\n",
    "style.use('ggplot')"
   ]
  },
  {
   "cell_type": "code",
   "execution_count": 31,
   "metadata": {
    "collapsed": true
   },
   "outputs": [],
   "source": [
    "#defining a class for our each support vectors\n",
    "class Support_Vector_Machine:\n",
    "    def __init__(self, visualization=True):                #this is the constructor.....need to see, so visualization\n",
    "        self.visualization = visualization\n",
    "        self.colors = {1:'orange', -1:'yellow'}\n",
    "        \n",
    "        if self.visualization:                             #this is just to plot and see a simple support vector\n",
    "            self.fig = plt.figure()\n",
    "            self.ax = self.fig.add_subplot(1,1,1)\n",
    "        \n",
    "        \n",
    "        \n",
    "    def fit(self, data):                                   #this to train on the data and find the w and b\n",
    "        self.data = data\n",
    "        opt_dict = {}                                      #the dictionary to store all values of vct w and its corresponding (max)b\n",
    "        transform = [[1,1],[-1,1],[-1,-1],[1,-1]]          #the transformation matrix to change values of EACH w, \n",
    "                                                           #to take differnet directions of w each same magnitude\n",
    "            \n",
    "        all_data = []                                      #required to know WHERE to initialize our w and b in each step, by knowing max and min of them\n",
    "        for yi in self.data:\n",
    "            for featureset in self.data[yi]:\n",
    "                for feature in featureset:\n",
    "                    all_data.append(feature)\n",
    "        self.max_feature_value = max(all_data)\n",
    "        self.min_feature_value = min(all_data)\n",
    "        all_data = None\n",
    "        \n",
    "        step_sizes = [self.max_feature_value * 0.1,         #to get our w's step size.....but last one wud b very expensive\n",
    "                     self.max_feature_value * 0.01,\n",
    "                     self.max_feature_value * 0.001]\n",
    "        \n",
    "        b_range_multiple = 5                                #not needed to be very precise, so very big\n",
    "        b_multiple = 5\n",
    "        latest_optimum = self.max_feature_value * 10        #the first value for the vct w\n",
    "        \n",
    "        for step in step_sizes:                             #dropping different w's into the bowl of convex problem\n",
    "            w = np.array([latest_optimum,latest_optimum])\n",
    "            optimized = False                               #this will stay Flase until no more w to step down, we got our w\n",
    "            \n",
    "            while not optimized:                            #the main optimization for min w and max b for each w\n",
    "                for b in np.arange(-1*self.max_feature_value*b_range_multiple, self.max_feature_value*b_range_multiple, \n",
    "                               step*b_multiple):            #this for loop to loop thru b's values, for each w\n",
    "                    for transformation in transform:        #changing direction for each w\n",
    "                        w_t = w * transformation\n",
    "                        found_option = True\n",
    "                                                            #the loop for ALL training data to b used by this b and this w\n",
    "                                                            #in EVERY case to see if main constraint yi(xi.w+b)>=1 fulfills\n",
    "                                                            #so even if ONE data does not fit, we throw the whole class/w out\n",
    "                        for i in self.data:                 \n",
    "                            for xi in self.data[i]:\n",
    "                                yi = i\n",
    "                                if not yi*(np.dot(w_t,xi)+b) >= 1:\n",
    "                                    found_option = False\n",
    "                                #print (xi, ':', yi*(np.dot(w_t,xi)+b))\n",
    "                                                            #if we found a value, then we save it in the dictionary\n",
    "                                                            #with the w's magnitude as the index\n",
    "                        if found_option:\n",
    "                            opt_dict[np.linalg.norm(w_t)] = [w_t, b]\n",
    "                                                            #NOW, finishing after checking for every b in each w's transformation\n",
    "                                                            #we now check if its optimized ro we step-down our vct w\n",
    "                if w[0] < 0:\n",
    "                    optimized = True\n",
    "                    print ('optimized a value')\n",
    "                else: w = w - step\n",
    "        \n",
    "            norms = [sorted([n for n in opt_dict])]         #sorted out the dictionary, and took the vct, w, with min magnitude\n",
    "            \n",
    "            opt_choice = opt_dict[norms[0][0]]\n",
    "            self.w = opt_choice[0]\n",
    "            self.b = opt_choice[1]\n",
    "            latest_optimum = opt_choice[0][0]+step*2        #updated latest_optimum, as w's new value \n",
    "            \n",
    "#         for i in self.data:                 \n",
    "#             for xi in self.data[i]:\n",
    "#                 yi = i\n",
    "#                 print (xi, ':', yi*(np.dot(self.w,xi) + self.b))\n",
    "        return\n",
    "        \n",
    "        \n",
    "        \n",
    "    def predict(self, features):                            #this is to predict for an unknown feature   \n",
    "    # we actually need to find the sign of (x.w + b), so we do this by using numpy's function follow:\n",
    "        classification = np.sign( np.dot(np.array(features) , self.w) + self.b )\n",
    "        \n",
    "        if classification != 0 and self.visualization:      #just to visualize our prediction\n",
    "            self.ax.scatter(features[0], features[1], s=50, marker='*', c=self.colors[classification])\n",
    "        return classification     \n",
    "    \n",
    "    \n",
    "    def visualize(self):                                    #NO NEED in svm's classification job, JUST to see stuffs\n",
    "        #two for loops to plot out the features according to respective classes\n",
    "        [[self.ax.scatter(x[0], x[1], s=100, color=self.colors[i]) for x in data_dict[i]] for i in data_dict]\n",
    "        \n",
    "        def hyperplane(x, w, b, v):                         #function to give any hyperplanes for its \n",
    "                                                            #corresponding value. \n",
    "                                                            # psv:1....nsv:-1....deci_bound:0\n",
    "            return (-w[0] * x - b + v)/w[1]                  #this return value is actually a y-value to a given x-value\n",
    "        \n",
    "                                                            #selecting a range to plot the lines using a max and min coordinates\n",
    "        datarange = (self.min_feature_value * 0.9, self.max_feature_value * 1.1)\n",
    "        hyp_x_min = datarange[0]   #the min coordinate\n",
    "        hyp_x_max = datarange[1]   #the max coordinate\n",
    "        \n",
    "        #NOW showing the hyperplanes\n",
    "        psv1 = hyperplane(hyp_x_min, self.w, self.b, 1)     #for Psv, value is +1\n",
    "        psv2 = hyperplane(hyp_x_max, self.w, self.b, 1)     \n",
    "        self.ax.plot([hyp_x_min,hyp_x_max], [psv1,psv2], 'k')    #plotting the positive hyperplane\n",
    "        \n",
    "        nsv1 = hyperplane(hyp_x_min, self.w, self.b, -1)    #for Nsv, value is -1\n",
    "        nsv2 = hyperplane(hyp_x_max, self.w, self.b, -1)     \n",
    "        self.ax.plot([hyp_x_min,hyp_x_max], [nsv1,nsv2], 'k')    #plotting the negative hyperplane\n",
    "        \n",
    "        dec_boundary1 = hyperplane(hyp_x_min, self.w, self.b, 0)     #for decision boundary, value is 0\n",
    "        dec_boundary2 = hyperplane(hyp_x_max, self.w, self.b, 0)     \n",
    "        self.ax.plot([hyp_x_min,hyp_x_max], [dec_boundary1,dec_boundary2], 'y--')    #plotting the decision boundary\n",
    "        \n",
    "        plt.show()                                          #plotting all the hyperplanes \n",
    "        "
   ]
  },
  {
   "cell_type": "code",
   "execution_count": 32,
   "metadata": {
    "collapsed": false
   },
   "outputs": [
    {
     "name": "stdout",
     "output_type": "stream",
     "text": [
      "optimized a value\n",
      "optimized a value\n",
      "optimized a value\n"
     ]
    },
    {
     "data": {
      "image/png": "[encoded data removed]",
      "text/plain": [
       "<matplotlib.figure.Figure at 0x21bb83af1d0>"
      ]
     },
     "metadata": {},
     "output_type": "display_data"
    }
   ],
   "source": [
    "#declaring a dictionary with two classes +1 and -1\n",
    "data_dict = {-1:np.array([[1,7],\n",
    "                          [2,8],\n",
    "                          [3,8]]),\n",
    "             1:np.array([[5,1],\n",
    "                         [6,-1],\n",
    "                         [7,3]])}\n",
    "\n",
    "#to run and test our svm class by training it with our data_dictionary\n",
    "svm = Support_Vector_Machine()\n",
    "svm.fit(data = data_dict)\n",
    "\n",
    "#now to predict the classification of features with unknown classification\n",
    "predict_us = [[0,10], [1,3], [3,4], [3,5], [5,5], [5,6], [6,-5], [5,8]]\n",
    "for p in predict_us:\n",
    "    svm.predict(p)\n",
    "\n",
    "#this following visualize then will show all the features with known and found-out classes also\n",
    "svm.visualize()"
   ]
  },
  {
   "cell_type": "code",
   "execution_count": 28,
   "metadata": {
    "collapsed": false
   },
   "outputs": [
    {
     "data": {
      "text/plain": [
       "1.0"
      ]
     },
     "execution_count": 28,
     "metadata": {},
     "output_type": "execute_result"
    }
   ],
   "source": [
    "svm.predict([5,2])"
   ]
  },
  {
   "cell_type": "markdown",
   "metadata": {},
   "source": [
    "### we can see above that, once we have w & b for the classifier, all classifications is very very fast"
   ]
  },
  {
   "cell_type": "code",
   "execution_count": 37,
   "metadata": {
    "collapsed": false
   },
   "outputs": [
    {
     "name": "stdout",
     "output_type": "stream",
     "text": [
      "optimized a value\n",
      "optimized a value\n",
      "optimized a value\n",
      "[1 7] : 1.272\n",
      "[2 8] : 1.272\n",
      "[3 8] : 1.04\n",
      "[5 1] : 1.048\n",
      "[ 6 -1] : 1.744\n",
      "[7 3] : 1.048\n"
     ]
    },
    {
     "data": {
      "image/png": "[encoded data removed]",
      "text/plain": [
       "<matplotlib.figure.Figure at 0x21bb86e2860>"
      ]
     },
     "metadata": {},
     "output_type": "display_data"
    }
   ],
   "source": [
    "import matplotlib.pyplot as plt\n",
    "from matplotlib import style\n",
    "import numpy as np\n",
    "style.use('ggplot')\n",
    "\n",
    "#defining a class for our each support vectors\n",
    "class Support_Vector_Machine:\n",
    "    def __init__(self, visualization=True):                #this is the constructor.....need to see, so visualization\n",
    "        self.visualization = visualization\n",
    "        self.colors = {1:'orange', -1:'yellow'}\n",
    "        \n",
    "        if self.visualization:                             #this is just to plot and see a simple support vector\n",
    "            self.fig = plt.figure()\n",
    "            self.ax = self.fig.add_subplot(1,1,1)\n",
    "        \n",
    "        \n",
    "        \n",
    "    def fit(self, data):                                   #this to train on the data and find the w and b\n",
    "        self.data = data\n",
    "        opt_dict = {}                                      #the dictionary to store all values of vct w and its corresponding (max)b\n",
    "        transform = [[1,1],[-1,1],[-1,-1],[1,-1]]          #the transformation matrix to change values of EACH w, \n",
    "                                                           #to take differnet directions of w each same magnitude\n",
    "            \n",
    "        all_data = []                                      #required to know WHERE to initialize our w and b in each step, by knowing max and min of them\n",
    "        for yi in self.data:\n",
    "            for featureset in self.data[yi]:\n",
    "                for feature in featureset:\n",
    "                    all_data.append(feature)\n",
    "        self.max_feature_value = max(all_data)\n",
    "        self.min_feature_value = min(all_data)\n",
    "        all_data = None\n",
    "        \n",
    "        step_sizes = [self.max_feature_value * 0.1,         #to get our w's step size.....\n",
    "                     self.max_feature_value * 0.01,         #but last one wud b very expensive....still for accuracy we must keep it\n",
    "                     self.max_feature_value * 0.001         \n",
    "                     ]\n",
    "        \n",
    "        b_range_multiple = 1                                #not needed to be very precise, so very big....but faster works for less value\n",
    "        b_multiple = 5\n",
    "        latest_optimum = self.max_feature_value * 10        #the first value for the vct w\n",
    "        \n",
    "        for step in step_sizes:                             #dropping different w's into the bowl of convex problem\n",
    "            w = np.array([latest_optimum,latest_optimum])\n",
    "            optimized = False                               #this will stay Flase until no more w to step down, we got our w\n",
    "            \n",
    "            while not optimized:                            #the main optimization for min w and max b for each w\n",
    "                for b in np.arange(-1*self.max_feature_value*b_range_multiple, self.max_feature_value*b_range_multiple, \n",
    "                               step*b_multiple):            #this for loop to loop thru b's values, for each w\n",
    "                    for transformation in transform:        #changing direction for each w\n",
    "                        w_t = w * transformation\n",
    "                        found_option = True\n",
    "                                                            #the loop for ALL training data to b used by this b and this w\n",
    "                                                            #in EVERY case to see if main constraint yi(xi.w+b)>=1 fulfills\n",
    "                                                            #so even if ONE data does not fit, we throw the whole class/w out\n",
    "                        for i in self.data:                 \n",
    "                            for xi in self.data[i]:\n",
    "                                yi = i\n",
    "                                if not yi*(np.dot(w_t,xi)+b) >= 1:\n",
    "                                    found_option = False\n",
    "                                #print (xi, ':', yi*(np.dot(w_t,xi)+b))\n",
    "                                                            #if we found a value, then we save it in the dictionary\n",
    "                                                            #with the w's magnitude as the index\n",
    "                        if found_option:\n",
    "                            opt_dict[np.linalg.norm(w_t)] = [w_t, b]\n",
    "                                                            #NOW, finishing after checking for every b in each w's transformation\n",
    "                                                            #we now check if its optimized ro we step-down our vct w\n",
    "                if w[0] < 0:\n",
    "                    optimized = True\n",
    "                    print ('optimized a value')\n",
    "                else: w = w - step\n",
    "        \n",
    "            norms = [sorted([n for n in opt_dict])]         #sorted out the dictionary, and took the vct, w, with min magnitude\n",
    "            \n",
    "            opt_choice = opt_dict[norms[0][0]]\n",
    "            self.w = opt_choice[0]\n",
    "            self.b = opt_choice[1]\n",
    "            latest_optimum = opt_choice[0][0]+step*2        #updated latest_optimum, as w's new value \n",
    "            \n",
    "        for i in self.data:                                 #THIS for loop is to see the values given by the SUPPORT VCTS only   \n",
    "            for xi in self.data[i]:                         #to see whose values are given as closest to 1 how much\n",
    "                yi = i\n",
    "                print (xi, ':', yi*(np.dot(self.w,xi) + self.b))\n",
    "        return\n",
    "        \n",
    "        \n",
    "        \n",
    "    def predict(self, features):                            #this is to predict for an unknown feature   \n",
    "    # we actually need to find the sign of (x.w + b), so we do this by using numpy's function follow:\n",
    "        classification = np.sign( np.dot(np.array(features) , self.w) + self.b )\n",
    "        \n",
    "        if classification != 0 and self.visualization:      #just to visualize our prediction\n",
    "            self.ax.scatter(features[0], features[1], s=50, marker='*', c=self.colors[classification])\n",
    "        return classification     \n",
    "    \n",
    "    \n",
    "    def visualize(self):                                    #NO NEED in svm's classification job, JUST to see stuffs\n",
    "        #two for loops to plot out the features according to respective classes\n",
    "        [[self.ax.scatter(x[0], x[1], s=100, color=self.colors[i]) for x in data_dict[i]] for i in data_dict]\n",
    "        \n",
    "        def hyperplane(x, w, b, v):                         #function to give any hyperplanes for its \n",
    "                                                            #corresponding value. \n",
    "                                                            # psv:1....nsv:-1....deci_bound:0\n",
    "            return (-w[0] * x - b + v)/w[1]                  #this return value is actually a y-value to a given x-value\n",
    "        \n",
    "                                                            #selecting a range to plot the lines using a max and min coordinates\n",
    "        datarange = (self.min_feature_value * 0.9, self.max_feature_value * 1.1)\n",
    "        hyp_x_min = datarange[0]   #the min coordinate\n",
    "        hyp_x_max = datarange[1]   #the max coordinate\n",
    "        \n",
    "        #NOW showing the hyperplanes\n",
    "        psv1 = hyperplane(hyp_x_min, self.w, self.b, 1)     #for Psv, value is +1\n",
    "        psv2 = hyperplane(hyp_x_max, self.w, self.b, 1)     \n",
    "        self.ax.plot([hyp_x_min,hyp_x_max], [psv1,psv2], 'k')    #plotting the positive hyperplane\n",
    "        \n",
    "        nsv1 = hyperplane(hyp_x_min, self.w, self.b, -1)    #for Nsv, value is -1\n",
    "        nsv2 = hyperplane(hyp_x_max, self.w, self.b, -1)     \n",
    "        self.ax.plot([hyp_x_min,hyp_x_max], [nsv1,nsv2], 'k')    #plotting the negative hyperplane\n",
    "        \n",
    "        dec_boundary1 = hyperplane(hyp_x_min, self.w, self.b, 0)     #for decision boundary, value is 0\n",
    "        dec_boundary2 = hyperplane(hyp_x_max, self.w, self.b, 0)     \n",
    "        self.ax.plot([hyp_x_min,hyp_x_max], [dec_boundary1,dec_boundary2], 'g--')    #plotting the decision boundary\n",
    "        \n",
    "        plt.show()                                          #plotting all the hyperplanes \n",
    "        \n",
    "        \n",
    "#declaring a dictionary with two classes +1 and -1\n",
    "data_dict = {-1:np.array([[1,7],\n",
    "                          [2,8],\n",
    "                          [3,8]]),\n",
    "             1:np.array([[5,1],\n",
    "                         [6,-1],\n",
    "                         [7,3]])}\n",
    "\n",
    "#to run and test our svm class by training it with our data_dictionary\n",
    "svm = Support_Vector_Machine()\n",
    "svm.fit(data = data_dict)\n",
    "\n",
    "#now to predict the classification of features with unknown classification\n",
    "predict_us = [[0,10], [1,3], [3,4], [3,5], [5,5], [5,6], [6,-5], [5,8]]\n",
    "for p in predict_us:\n",
    "    svm.predict(p)\n",
    "\n",
    "#this following visualize then will show all the features with known and found-out classes also\n",
    "svm.visualize()"
   ]
  },
  {
   "cell_type": "markdown",
   "metadata": {},
   "source": [
    "### uporer output'e dekha jacche j supprt vector gula show kortese j tara nijera ki value ditese in each case for finding min w and max b\n",
    "### the main support vcts, see, give the values CLOSEST to 1"
   ]
  },
  {
   "cell_type": "markdown",
   "metadata": {},
   "source": [
    "## Another point to note: \n",
    "    jodi amra stepping komay dei, then the predictions are coming as far worse....very near to decision boundary, rather than accurate.\n",
    "    SO, for accuracy, we need to keep upto the third step...MUST"
   ]
  },
  {
   "cell_type": "markdown",
   "metadata": {},
   "source": [
    "## Another point to note:\n",
    "    step_sizes to find w......can two steps be done at a same time, like threaded? NO.\n",
    "    This is bcoz, je amra jnina age theke je pore kotodur uthbo ba nambo in the convex bowl. So can't b threaded.\n",
    "## Another point to note:\n",
    "    finding b's values for each w.....can that b threaded? YES.\n",
    "    This is bcoz, ekta b'er shthe tar ager or porer kono relation nai as there was relation between w's taking step_sizes. so  yes, finding b can b threaded for each w.\n",
    "## Another point to note:\n",
    "    Can the work done wih step_sizes b done with b also?...like doing in list, and all...though finding max of b? YES.\n",
    "    This is bcoz, 2tai same work kortese......(still unclear just eta.... :( shesh'er ei kotha'ta :'( )"
   ]
  },
  {
   "cell_type": "markdown",
   "metadata": {},
   "source": [
    "##### We need to know, how SVM works if the data is not linear.....that is very crucial to note down.."
   ]
  },
  {
   "cell_type": "code",
   "execution_count": null,
   "metadata": {
    "collapsed": true
   },
   "outputs": [],
   "source": []
  }
 ],
 "metadata": {
  "kernelspec": {
   "display_name": "Python 3",
   "language": "python",
   "name": "python3"
  },
  "language_info": {
   "codemirror_mode": {
    "name": "ipython",
    "version": 3
   },
   "file_extension": ".py",
   "mimetype": "text/x-python",
   "name": "python",
   "nbconvert_exporter": "python",
   "pygments_lexer": "ipython3",
   "version": "3.6.0"
  }
 },
 "nbformat": 4,
 "nbformat_minor": 2
}
