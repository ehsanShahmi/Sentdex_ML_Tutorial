{
 "cells": [
  {
   "cell_type": "code",
   "execution_count": 22,
   "metadata": {
    "collapsed": false
   },
   "outputs": [
    {
     "name": "stdout",
     "output_type": "stream",
     "text": [
      "     ticker       date   open   high    low  close      volume  ex-dividend  \\\n",
      "None                                                                          \n",
      "0         A 1999-11-18  45.50  50.00  40.00  44.00  44739900.0          0.0   \n",
      "1         A 1999-11-19  42.94  43.00  39.81  40.38  10897100.0          0.0   \n",
      "2         A 1999-11-22  41.31  44.00  40.06  44.00   4705200.0          0.0   \n",
      "3         A 1999-11-23  42.50  43.63  40.25  40.25   4274400.0          0.0   \n",
      "4         A 1999-11-24  40.13  41.94  40.00  41.06   3464400.0          0.0   \n",
      "\n",
      "      split_ratio   adj_open   adj_high    adj_low  adj_close  adj_volume  \n",
      "None                                                                       \n",
      "0             1.0  29.367758  32.272262  25.817810  28.399591  44739900.0  \n",
      "1             1.0  27.714581  27.753307  25.694399  26.062292  10897100.0  \n",
      "2             1.0  26.663343  28.399591  25.856536  28.399591   4705200.0  \n",
      "3             1.0  27.436863  28.166360  25.984323  25.984323   4274400.0  \n",
      "4             1.0  25.905464  27.073889  25.821544  26.505815   3464400.0  \n"
     ]
    }
   ],
   "source": [
    "import math\n",
    "import pandas as pd\n",
    "import quandl\n",
    "quandl.ApiConfig.api_key = 'sTWktYRdKfufsd_3NvfG'\n",
    "\n",
    "df = quandl.get_table('WIKI/PRICES')\n",
    "print (df.head())\n",
    "\n",
    "df = df [['date','adj_open','adj_high','adj_low','adj_close','adj_volume']]\n",
    "\n",
    "df['HL_PCT'] = (df['adj_high'] - df['adj_close']) / df['adj_close'] * 100.0\n",
    "df['PCT_change'] = (df['adj_close'] - df['adj_open']) / df['adj_open'] * 100.0\n",
    "\n",
    "df = df [['date','adj_close','HL_PCT','PCT_change','adj_volume']]"
   ]
  },
  {
   "cell_type": "code",
   "execution_count": null,
   "metadata": {
    "collapsed": true
   },
   "outputs": [],
   "source": [
    "forecast_col = 'adj_close' #এইখানে যেকোন কিছু variable ধরা যাবে instead of 'adj_close', \n",
    "                           #that is যেই columnটাকে forecast করতে চাই সেটা\n",
    "\n",
    "df.fillna(-99999, inplace=True)"
   ]
  },
  {
   "cell_type": "code",
   "execution_count": 19,
   "metadata": {
    "collapsed": true
   },
   "outputs": [],
   "source": [
    "forecast_out = int(math.ceil(0.01*len(df)))"
   ]
  },
  {
   "cell_type": "code",
   "execution_count": 20,
   "metadata": {
    "collapsed": true
   },
   "outputs": [],
   "source": [
    "df['label'] = df[forecast_col].shift(-forecast_out)"
   ]
  },
  {
   "cell_type": "code",
   "execution_count": 21,
   "metadata": {
    "collapsed": false
   },
   "outputs": [
    {
     "name": "stdout",
     "output_type": "stream",
     "text": [
      "           date  adj_close     HL_PCT  PCT_change  adj_volume      label\n",
      "None                                                                    \n",
      "0    1999-11-18  28.399591  13.636364   -3.296703  44739900.0  55.510851\n",
      "1    1999-11-19  26.062292   6.488361   -5.961807  10897100.0  58.094552\n",
      "2    1999-11-22  28.399591   0.000000    6.511740   4705200.0  53.377713\n",
      "3    1999-11-23  25.984323   8.397516   -5.294118   4274400.0  51.314977\n",
      "4    1999-11-24  26.505815   2.143205    2.317468   3464400.0  56.158536\n"
     ]
    }
   ],
   "source": [
    "df.dropna(inplace=True)\n",
    "print (df.head())"
   ]
  },
  {
   "cell_type": "code",
   "execution_count": null,
   "metadata": {
    "collapsed": true
   },
   "outputs": [],
   "source": []
  }
 ],
 "metadata": {
  "kernelspec": {
   "display_name": "Python 3",
   "language": "python",
   "name": "python3"
  },
  "language_info": {
   "codemirror_mode": {
    "name": "ipython",
    "version": 3
   },
   "file_extension": ".py",
   "mimetype": "text/x-python",
   "name": "python",
   "nbconvert_exporter": "python",
   "pygments_lexer": "ipython3",
   "version": "3.6.0"
  }
 },
 "nbformat": 4,
 "nbformat_minor": 2
}
