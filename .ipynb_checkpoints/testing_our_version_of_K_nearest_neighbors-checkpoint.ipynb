{
 "cells": [
  {
   "cell_type": "markdown",
   "metadata": {},
   "source": [
    "### Now we, will test our own written algorithm against our main breast-cancer data, and compare with the sciki-learn algorithm we had used before"
   ]
  },
  {
   "cell_type": "code",
   "execution_count": 7,
   "metadata": {
    "collapsed": false
   },
   "outputs": [],
   "source": [
    "import numpy as np\n",
    "from math import sqrt\n",
    "import warnings\n",
    "from collections import Counter\n",
    "import pandas as pd\n",
    "import random\n",
    "\n",
    "\n",
    "\n",
    "\n",
    "#defining our own main K Nearest Algo\n",
    "def k_nearest_neighbors(data, predict, k=3):\n",
    "    if len(data) >= k :\n",
    "        warnings.warn('K is set to a value less than total voting groups! (YOU R DUMB ACTUALLY)' )\n",
    "        \n",
    "    distances = []\n",
    "    for group in data:\n",
    "        for features in data[group]:\n",
    "#             euclidean_distance = sqrt( (features[0]-predict[0])**2 + (features[1]-predict[1])**2 )   \n",
    "#             #BUT this is VERY SLOW calculation\n",
    "#             #ALSO this formula is ONLY hard-coded for 2dimension-features, not more.......so we need to change it\n",
    "\n",
    "            euclidean_distance = np.linalg.norm(np.array(features) - np.array(predict))\n",
    "            #THIS function from numpy is MUCH faster and NOT hard-coded than the normal one.\n",
    "\n",
    "            distances.append([euclidean_distance, group])\n",
    "            #HERE we append to make a list of lists, each list containg distance and its group-number, so we can differentiate\n",
    "            \n",
    "    votes = [i[1] for i in sorted(distances)[:k]]        #can be written as a multi-line for loop, here we are getting the votes and storing them\n",
    "    \n",
    "    #print (Counter(votes).most_common(1))\n",
    "    vote_result = Counter(votes).most_common(1)[0][0]    #counting the votes of each class and finding the most valued class\n",
    "    \n",
    "    return vote_result\n",
    "\n",
    "\n"
   ]
  },
  {
   "cell_type": "code",
   "execution_count": 28,
   "metadata": {
    "collapsed": false
   },
   "outputs": [],
   "source": [
    "df = pd.read_csv('breast-cancer-wisconsin.data.txt')\n",
    "df.replace('?', -99999, inplace=True)\n",
    "df.drop(['id'], 1, inplace=True)\n",
    "#print (df.head())"
   ]
  },
  {
   "cell_type": "code",
   "execution_count": 29,
   "metadata": {
    "collapsed": false
   },
   "outputs": [],
   "source": [
    "full_data = df.astype(float).values.tolist()                    #converting all the data into float & storing as a list\n",
    "#print (full_data[:10])"
   ]
  },
  {
   "cell_type": "code",
   "execution_count": 30,
   "metadata": {
    "collapsed": false
   },
   "outputs": [],
   "source": [
    "#NOW we are shuffling our data, and printing just to see if these are shuffled accurately\n",
    "#print (full_data[:5])\n",
    "random.shuffle(full_data)\n",
    "#print (20*'&')\n",
    "#print (full_data[:5])"
   ]
  },
  {
   "cell_type": "code",
   "execution_count": 31,
   "metadata": {
    "collapsed": true
   },
   "outputs": [],
   "source": [
    "test_size = 0.2                                          #20% of data to be used for training\n",
    "train_set = {2:[], 4:[]}                                 #train set and test set are declared as dictionaries\n",
    "test_set = {2:[], 4:[]}\n",
    "#HERE ACTUALLY two classes are declared, the '2->Benign' and '4->Malignant' classes, in each dictionaries"
   ]
  },
  {
   "cell_type": "code",
   "execution_count": 32,
   "metadata": {
    "collapsed": true
   },
   "outputs": [],
   "source": [
    "train_data = full_data[:-int(test_size*len(full_data))]  #training data are initialized to be that 20% of full data\n",
    "test_data = full_data[-int(test_size*len(full_data)):]   #test data will be LAST 20% of the data\n",
    "#HERE int() is used just to give some integer values in the pandas array, no reason otherwise, all are FLOAT valued-data"
   ]
  },
  {
   "cell_type": "code",
   "execution_count": 33,
   "metadata": {
    "collapsed": true
   },
   "outputs": [],
   "source": [
    "#NOW we have to populate the dictionaries, we declared ones\n",
    "\n",
    "for i in train_data:                                    #description given in copy: appending all but class into the respective class\n",
    "    train_set[i[-1]].append(i[:-1])\n",
    "    \n",
    "    \n",
    "for i in test_data:                                    #same description for test_set\n",
    "    test_set[i[-1]].append(i[:-1])"
   ]
  },
  {
   "cell_type": "code",
   "execution_count": 34,
   "metadata": {
    "collapsed": false
   },
   "outputs": [
    {
     "name": "stdout",
     "output_type": "stream",
     "text": [
      "Accuracy: 0.9640287769784173\n"
     ]
    }
   ],
   "source": [
    "#NOW we have to pass our written algortihm(the function) in these data_sets\n",
    "total=0\n",
    "correct = 0                                                    #declared to track the correctness and totalness\n",
    "\n",
    "for group in test_set:\n",
    "    for data in test_set[group]:\n",
    "        vote = k_nearest_neighbors(train_set, data, k=5)              #passing each new feature(as 2 b predicted as we did before)\n",
    "                                                                      #to the function, for each class group;\n",
    "                                                                      #dataset is our train_set;\n",
    "                                                                      #and k=5 to match with sklearn KNN algo;\n",
    "        \n",
    "        if group == vote: correct += 1                    #function's allocation & prior designation are if same, then CORRECT!!!\n",
    "        total += 1                                        #total is increased by one\n",
    "        \n",
    "print ('Accuracy:', correct/total)"
   ]
  },
  {
   "cell_type": "code",
   "execution_count": null,
   "metadata": {
    "collapsed": true
   },
   "outputs": [],
   "source": []
  }
 ],
 "metadata": {
  "kernelspec": {
   "display_name": "Python 3",
   "language": "python",
   "name": "python3"
  },
  "language_info": {
   "codemirror_mode": {
    "name": "ipython",
    "version": 3
   },
   "file_extension": ".py",
   "mimetype": "text/x-python",
   "name": "python",
   "nbconvert_exporter": "python",
   "pygments_lexer": "ipython3",
   "version": "3.6.0"
  }
 },
 "nbformat": 4,
 "nbformat_minor": 2
}
