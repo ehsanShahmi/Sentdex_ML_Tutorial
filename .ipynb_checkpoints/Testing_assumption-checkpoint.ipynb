{
 "cells": [
  {
   "cell_type": "markdown",
   "metadata": {},
   "source": [
    "### Now , we have to test whether our best-fit line equation and the r-squared equation are right or not, or acting as intended or not\n",
    "### We can do this, only using our sample data.....which we can change according o our wish....thustesting more accurately"
   ]
  },
  {
   "cell_type": "code",
   "execution_count": 12,
   "metadata": {
    "collapsed": false
   },
   "outputs": [
    {
     "name": "stdout",
     "output_type": "stream",
     "text": [
      "0.00101969767724\n"
     ]
    },
    {
     "data": {
      "image/png": "[encoded data removed]",
      "text/plain": [
       "<matplotlib.figure.Figure at 0x211c422da20>"
      ]
     },
     "metadata": {},
     "output_type": "display_data"
    }
   ],
   "source": [
    "from statistics import mean\n",
    "import numpy as np\n",
    "import matplotlib.pyplot as plt\n",
    "from matplotlib import style\n",
    "import random\n",
    "\n",
    "style.use('fivethirtyeight')\n",
    "\n",
    "#folowing default values are not required since we are now creating our own random dataset\n",
    "# xs = np.array([1,2,3,4,5,6], dtype = np.float64)\n",
    "# ys = np.array([5,4,6,5,6,7], dtype = np.float64)\n",
    "\n",
    "#this function is the main for testing the best-fit line and r-Squared error against our created dataset\n",
    "def create_dataset(how_many_data_points, variance, step=2, correlation=False):\n",
    "    val = 1 #FIRST initialized value of y\n",
    "    ys = []  #the array where y value will b stored\n",
    "    \n",
    "    for i in range(how_many_data_points):         #for loop for traversing for all the data-points\n",
    "        y = val + random.randrange(-variance, variance)  #traverse between all from positive to negative\n",
    "        ys.append(y)                              #thus the ys will contain any value from -variance to +variance\n",
    "        \n",
    "        if correlation and correlation=='pos':     #to change the value of 'val' so that ys contains more random values\n",
    "            val += step\n",
    "        elif correlation and correlation=='neg':\n",
    "            val -+ step\n",
    "    \n",
    "    xs = [i for i in range(len(ys))]              #only simple values of x in xs just between 1 and length(ys)\n",
    "    \n",
    "    return np.array(xs, dtype=np.float64), np.array(ys, dtype=np.float64)\n",
    "\n",
    "def best_fit_slope_and_intercept(xs,ys):\n",
    "    m = ( ((mean(xs) * mean(ys)) - mean(xs*ys) ) / \n",
    "            ((mean(xs)**2) - mean(xs**2)) )\n",
    "    b = mean(ys) - m * mean(xs)\n",
    "    return m, b\n",
    "\n",
    "#this function only gives the summation of the each y form the best-fit line, NOT the coefficient of determination\n",
    "def squared_error(ys_orig, ys_line):\n",
    "    return sum((ys_line - ys_orig)**2)\n",
    "\n",
    "#the function to find the coefficient of determination\n",
    "def coefficient_of_determination(ys_orig, ys_line):\n",
    "    y_mean_line = [mean(ys_orig) for y in ys]\n",
    "    squred_err_regr = squared_error(ys_orig, ys_line)\n",
    "    squred_err_y_mean = squared_error(ys_orig, y_mean_line)\n",
    "    return (1 - (squred_err_regr/squred_err_y_mean))\n",
    "\n",
    "xs, ys = create_dataset(40, 100, 2, correlation=False) #calling the NEW function to create dataset,\n",
    "                                                      #then use other functions on it\n",
    "\n",
    "m, b = best_fit_slope_and_intercept(xs,ys)\n",
    "\n",
    "regression_line = [( m * x + b ) for x in xs] #making the regression line\n",
    "\n",
    "x_predict = 6.5\n",
    "y_predict = (m * x_predict) + b      #predicting a single y-data\n",
    "\n",
    "r_squared = coefficient_of_determination(ys, regression_line)    #determining the accuracy using r-Squared method\n",
    "print (r_squared)\n",
    "\n",
    "plt.scatter(xs, ys, color='red')\n",
    "plt.scatter(x_predict, y_predict, s=100, color='blue')        #s is just the size of the point to be predicted\n",
    "plt.plot(xs, regression_line)\n",
    "plt.show()"
   ]
  },
  {
   "cell_type": "markdown",
   "metadata": {
    "collapsed": true
   },
   "source": [
    "### jodi variance er value komay dei, then points will be much closer to the line, also the coeffi-deter will be much greater, i.e line becomes better"
   ]
  },
  {
   "cell_type": "code",
   "execution_count": null,
   "metadata": {
    "collapsed": true
   },
   "outputs": [],
   "source": []
  }
 ],
 "metadata": {
  "kernelspec": {
   "display_name": "Python 3",
   "language": "python",
   "name": "python3"
  },
  "language_info": {
   "codemirror_mode": {
    "name": "ipython",
    "version": 3
   },
   "file_extension": ".py",
   "mimetype": "text/x-python",
   "name": "python",
   "nbconvert_exporter": "python",
   "pygments_lexer": "ipython3",
   "version": "3.6.0"
  }
 },
 "nbformat": 4,
 "nbformat_minor": 2
}
