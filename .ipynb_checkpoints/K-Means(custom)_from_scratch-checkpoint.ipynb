{
 "cells": [
  {
   "cell_type": "code",
   "execution_count": 5,
   "metadata": {
    "collapsed": false,
    "scrolled": true
   },
   "outputs": [
    {
     "data": {
      "image/png": "[encoded data removed]",
      "text/plain": [
       "<matplotlib.figure.Figure at 0x1cf3f90df98>"
      ]
     },
     "metadata": {},
     "output_type": "display_data"
    }
   ],
   "source": [
    "import matplotlib.pyplot as plt\n",
    "from matplotlib import style\n",
    "style.use('ggplot')\n",
    "import numpy as np\n",
    "\n",
    "X = np.array ([[1,2],\n",
    "              [1.5,1.8],\n",
    "              [5,8],\n",
    "              [8,8],\n",
    "              [1,0.6],\n",
    "              [9,11]])\n",
    "\n",
    "plt.scatter(X[:,0] , X[:,1], s=100)\n",
    "plt.show()\n",
    "colors = 10*[\"g\",\"r\",\"c\",\"b\",\"k\"]"
   ]
  },
  {
   "cell_type": "code",
   "execution_count": 16,
   "metadata": {
    "collapsed": true
   },
   "outputs": [],
   "source": [
    "#defining a clas for own custom k-means\n",
    "class K_Means:\n",
    "    def __init__(self, k=2, tol=0.001, max_iter=300):\n",
    "        self.k = k\n",
    "        self.tol = tol\n",
    "        self.max_iter = max_iter\n",
    "    \n",
    "    def fit(self, data):\n",
    "        self.centroids = {}\n",
    "        \n",
    "        for i in range(self.k):                      #k is 2 for 2 clusters..& the first 2 datapoints are the first centroids\n",
    "            self.centroids[i] = data[i]\n",
    "        \n",
    "        for i in range(self.max_iter):               #main optimization starts here\n",
    "            self.classifications = {}                #this dict. will contain centroids and its classfication\n",
    "            \n",
    "            for i in range(self.k):\n",
    "                self.classifications[i] = []         #a list for each class...SO all in all, \n",
    "                                                     #dictionary will have centroids as keys and \n",
    "                                                     #each centroid will have the featureset-list in it\n",
    "            for featureset in X:\n",
    "                distances = [ np.linalg.norm(featureset - self.centroids[centroid]) for centroid in self.centroids ]\n",
    "                                                     #distance is a list, which is populated by k number of values\n",
    "                                                     #so that the 0th element contains distance from the featureset \n",
    "                                                     #to 0th centroid\n",
    "                classification = distances.index(min(distances))\n",
    "                self.classifications[classification].append(featureset)\n",
    "                \n",
    "            prev_centroids = dict(self.centroids)    #used to find how much changed of centroids occurred\n",
    "            \n",
    "            \n",
    "#             for classification in self.classifications: #this for loop is to create new centroids, \n",
    "#                                                         #which is mean from that groups' datapoints\n",
    "#                 self.centroids[classification] = np.average(self.classifications[classification], axis=0)\n",
    "                        \n",
    "            optimized = True\n",
    "            for c in self.centroids:\n",
    "                original_centroid = prev_centroids[c]\n",
    "                current_centroid = self.centroids[c]\n",
    "                if np.sum ((current_centroid-original_centroid)/original_centroid*100.0) > self.tol: #see copy\n",
    "                    optimized = False\n",
    "            \n",
    "            if optimized: break                      #if the centroids does not move any more, we stop the whole process\n",
    "                      \n",
    "        return\n",
    "    \n",
    "    \n",
    "    \n",
    "    def predict(self, data):\n",
    "        distances = [ np.linalg.norm(data - self.centroids[centroid]) for centroid in self.centroids ]\n",
    "        classification = distances.index(min(distances))\n",
    "        #same process done, as done in training, for testing\n",
    "        return classification"
   ]
  },
  {
   "cell_type": "code",
   "execution_count": 17,
   "metadata": {
    "collapsed": true
   },
   "outputs": [],
   "source": [
    "clf = K_Means()\n",
    "clf.fit(X)"
   ]
  },
  {
   "cell_type": "code",
   "execution_count": 18,
   "metadata": {
    "collapsed": false
   },
   "outputs": [
    {
     "data": {
      "image/png": "[encoded data removed]",
      "text/plain": [
       "<matplotlib.figure.Figure at 0x1cf41c0c5c0>"
      ]
     },
     "metadata": {},
     "output_type": "display_data"
    }
   ],
   "source": [
    "for centroid in clf.centroids:                      #to plot the centroids\n",
    "    plt.scatter(clf.centroids[centroid][0], clf.centroids[centroid][1], marker=\"o\", color=\"k\", s=150, linewidths=5)\n",
    "\n",
    "for classification in clf.classifications:          #to plot the datapoints of the 2 different clusters differently\n",
    "    color = colors[classification]\n",
    "    for featureset in clf.classifications[classification]:\n",
    "        plt.scatter(featureset[0], featureset[1], marker=\"x\", color=color, s=150, linewidths=5)\n",
    "                    \n",
    "plt.show()"
   ]
  },
  {
   "cell_type": "markdown",
   "metadata": {},
   "source": [
    "### new centroids update na korle bola hoitese j shobai single jekono ekta centroid'er kachei.....so all red (when the update was commemted in the class)....but when centroids are updated, result is accurate (see below)"
   ]
  },
  {
   "cell_type": "code",
   "execution_count": 23,
   "metadata": {
    "collapsed": false
   },
   "outputs": [],
   "source": [
    "#defining a clas for own custom k-means\n",
    "class K_Means2:\n",
    "    def __init__(self, k=2, tol=0.001, max_iter=300):\n",
    "        self.k = k\n",
    "        self.tol = tol\n",
    "        self.max_iter = max_iter\n",
    "    \n",
    "    def fit(self, data):\n",
    "        self.centroids = {}\n",
    "        \n",
    "        for i in range(self.k):                      #k is 2 for 2 clusters..& the first 2 datapoints are the first centroids\n",
    "            self.centroids[i] = data[i]\n",
    "        \n",
    "        for i in range(self.max_iter):               #main optimization starts here\n",
    "            self.classifications = {}                #this dict. will contain centroids and its classfication\n",
    "            \n",
    "            for i in range(self.k):\n",
    "                self.classifications[i] = []         #a list for each class...SO all in all, \n",
    "                                                     #dictionary will have centroids as keys and \n",
    "                                                     #each centroid will have the featureset-list in it\n",
    "            for featureset in X:\n",
    "                distances = [ np.linalg.norm(featureset - self.centroids[centroid]) for centroid in self.centroids ]\n",
    "                                                     #distance is a list, which is populated by k number of values\n",
    "                                                     #so that the 0th element contains distance from the featureset \n",
    "                                                     #to 0th centroid\n",
    "                classification = distances.index(min(distances))\n",
    "                self.classifications[classification].append(featureset)\n",
    "                \n",
    "            prev_centroids = dict(self.centroids)    #used to find how much changed of centroids occurred\n",
    "            \n",
    "            \n",
    "            for classification in self.classifications: #this for loop is to create new centroids, \n",
    "                                                        #which is mean from that groups' datapoints\n",
    "                self.centroids[classification] = np.average(self.classifications[classification], axis=0)\n",
    "                        \n",
    "            optimized = True\n",
    "            for c in self.centroids:\n",
    "                original_centroid = prev_centroids[c]\n",
    "                current_centroid = self.centroids[c]\n",
    "                if np.sum ((current_centroid-original_centroid)/original_centroid*100.0) > self.tol: #see copy\n",
    "                    optimized = False\n",
    "            \n",
    "            if optimized: break                      #if the centroids does not move any more, we stop the whole process\n",
    "                      \n",
    "        return\n",
    "    \n",
    "    \n",
    "    \n",
    "    def predict(self, data):\n",
    "        distances = [ np.linalg.norm(data - self.centroids[centroid]) for centroid in self.centroids ]\n",
    "        classification = distances.index(min(distances))\n",
    "        #same process done, as done in training, for testing\n",
    "        return classification"
   ]
  },
  {
   "cell_type": "code",
   "execution_count": 27,
   "metadata": {
    "collapsed": true
   },
   "outputs": [],
   "source": [
    "clf = K_Means2()\n",
    "clf.fit(X)\n",
    "for centroid in clf.centroids:                      #to plot the centroids\n",
    "    plt.scatter(clf.centroids[centroid][0], clf.centroids[centroid][1], marker=\"o\", color=\"k\", s=150, linewidths=5)\n",
    "\n",
    "for classification in clf.classifications:          #to plot the datapoints of the 2 different clusters differently\n",
    "    color = colors[classification]\n",
    "    for featureset in clf.classifications[classification]:\n",
    "        plt.scatter(featureset[0], featureset[1], marker=\"x\", color=color, s=150, linewidths=5)"
   ]
  },
  {
   "cell_type": "code",
   "execution_count": 28,
   "metadata": {
    "collapsed": false
   },
   "outputs": [
    {
     "data": {
      "image/png": "[encoded data removed]",
      "text/plain": [
       "<matplotlib.figure.Figure at 0x1cf41fa81d0>"
      ]
     },
     "metadata": {},
     "output_type": "display_data"
    }
   ],
   "source": [
    "#now for any unknown data, just for more testing\n",
    "unknowns = np.array([[1,3],[8,9],[0,3],[5,4],[6,4]])\n",
    "for unknown in unknowns:\n",
    "    classification = clf.predict(unknown)\n",
    "    plt.scatter(unknown[0], unknown[1], marker=\"*\", color=colors[classification], s=100, linewidths=5)\n",
    "\n",
    "plt.show()"
   ]
  },
  {
   "cell_type": "markdown",
   "metadata": {},
   "source": [
    "#### if we had added these 5 unknowns to the initial X, then point (5,4) wud have been in red cluster....coz the new centroid of red wud have come down, so maing (5,4) nearer to that cluster"
   ]
  },
  {
   "cell_type": "code",
   "execution_count": null,
   "metadata": {
    "collapsed": true
   },
   "outputs": [],
   "source": []
  }
 ],
 "metadata": {
  "kernelspec": {
   "display_name": "Python 3",
   "language": "python",
   "name": "python3"
  },
  "language_info": {
   "codemirror_mode": {
    "name": "ipython",
    "version": 3
   },
   "file_extension": ".py",
   "mimetype": "text/x-python",
   "name": "python",
   "nbconvert_exporter": "python",
   "pygments_lexer": "ipython3",
   "version": "3.6.0"
  }
 },
 "nbformat": 4,
 "nbformat_minor": 2
}
