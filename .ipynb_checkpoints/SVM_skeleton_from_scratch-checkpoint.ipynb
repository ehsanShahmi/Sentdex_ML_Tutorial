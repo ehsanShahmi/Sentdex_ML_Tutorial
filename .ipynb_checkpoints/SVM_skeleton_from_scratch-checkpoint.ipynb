{
 "cells": [
  {
   "cell_type": "code",
   "execution_count": 2,
   "metadata": {
    "collapsed": false
   },
   "outputs": [],
   "source": [
    "import matplotlib.pyplot as plt\n",
    "from matplotlib import style\n",
    "import numpy as np\n",
    "style.use('ggplot')"
   ]
  },
  {
   "cell_type": "code",
   "execution_count": 3,
   "metadata": {
    "collapsed": true
   },
   "outputs": [],
   "source": [
    "#defining a class for our each support vectors\n",
    "class Support_Vector_Machine:\n",
    "    def __init__(self, visualization=True):                #this is the constructor.....need to see, so visualization\n",
    "        self.visualization = visualization\n",
    "        self.colors = {1:'orange', -1:'yellow'}\n",
    "        \n",
    "        if self.visualization:                             #this is just to plot and see a simple support vector\n",
    "            self.fig = plt.figure()\n",
    "            self.ax = self.fig.add_subplot(1,1,1)\n",
    "        \n",
    "    def fit(self, data):                                   #this to train on the data and find the w and b\n",
    "        return\n",
    "           \n",
    "    def predict(self, features):                           #this is to predict for an unknown feature\n",
    "    # we actually need to find the sign of (x.w + b), so we do this by using numpy's function follow:\n",
    "        classification = np.sign( np.dot(np.array(features) , self.w) + self.b )\n",
    "        return classification        "
   ]
  },
  {
   "cell_type": "code",
   "execution_count": 4,
   "metadata": {
    "collapsed": true
   },
   "outputs": [],
   "source": [
    "data_dict = {-1:np.array([[1,7],\n",
    "                          [2,8],\n",
    "                          [3,8]]),\n",
    "             1:np.array([[5,1],\n",
    "                         [6,-1],\n",
    "                         [7,3]])}\n",
    "#declaring a dictionary with two classes +1 and -1"
   ]
  },
  {
   "cell_type": "code",
   "execution_count": null,
   "metadata": {
    "collapsed": true
   },
   "outputs": [],
   "source": []
  }
 ],
 "metadata": {
  "kernelspec": {
   "display_name": "Python 3",
   "language": "python",
   "name": "python3"
  },
  "language_info": {
   "codemirror_mode": {
    "name": "ipython",
    "version": 3
   },
   "file_extension": ".py",
   "mimetype": "text/x-python",
   "name": "python",
   "nbconvert_exporter": "python",
   "pygments_lexer": "ipython3",
   "version": "3.6.0"
  }
 },
 "nbformat": 4,
 "nbformat_minor": 2
}
