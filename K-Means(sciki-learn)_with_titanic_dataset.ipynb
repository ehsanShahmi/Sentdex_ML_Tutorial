{
 "cells": [
  {
   "cell_type": "code",
   "execution_count": 35,
   "metadata": {
    "collapsed": false
   },
   "outputs": [],
   "source": [
    "import matplotlib.pyplot as plt\n",
    "from matplotlib import style\n",
    "style.use('ggplot')\n",
    "import numpy as np\n",
    "from sklearn.cluster import KMeans\n",
    "from sklearn import preprocessing, cross_validation\n",
    "import pandas as pd"
   ]
  },
  {
   "cell_type": "code",
   "execution_count": 36,
   "metadata": {
    "collapsed": false
   },
   "outputs": [
    {
     "name": "stdout",
     "output_type": "stream",
     "text": [
      "   pclass  survived                                             name     sex  \\\n",
      "0       1         1                    Allen, Miss. Elisabeth Walton  female   \n",
      "1       1         1                   Allison, Master. Hudson Trevor    male   \n",
      "2       1         0                     Allison, Miss. Helen Loraine  female   \n",
      "3       1         0             Allison, Mr. Hudson Joshua Creighton    male   \n",
      "4       1         0  Allison, Mrs. Hudson J C (Bessie Waldo Daniels)  female   \n",
      "\n",
      "       age  sibsp  parch  ticket      fare    cabin embarked boat   body  \\\n",
      "0  29.0000      0      0   24160  211.3375       B5        S    2    NaN   \n",
      "1   0.9167      1      2  113781  151.5500  C22 C26        S   11    NaN   \n",
      "2   2.0000      1      2  113781  151.5500  C22 C26        S  NaN    NaN   \n",
      "3  30.0000      1      2  113781  151.5500  C22 C26        S  NaN  135.0   \n",
      "4  25.0000      1      2  113781  151.5500  C22 C26        S  NaN    NaN   \n",
      "\n",
      "                         home.dest  \n",
      "0                     St Louis, MO  \n",
      "1  Montreal, PQ / Chesterville, ON  \n",
      "2  Montreal, PQ / Chesterville, ON  \n",
      "3  Montreal, PQ / Chesterville, ON  \n",
      "4  Montreal, PQ / Chesterville, ON  \n"
     ]
    }
   ],
   "source": [
    "df = pd.read_excel('titanic.xls')\n",
    "print (df.head())"
   ]
  },
  {
   "cell_type": "code",
   "execution_count": 37,
   "metadata": {
    "collapsed": false
   },
   "outputs": [
    {
     "name": "stdout",
     "output_type": "stream",
     "text": [
      "   pclass  survived     sex      age  sibsp  parch  ticket      fare    cabin  \\\n",
      "0       1         1  female  29.0000      0      0   24160  211.3375       B5   \n",
      "1       1         1    male   0.9167      1      2  113781  151.5500  C22 C26   \n",
      "2       1         0  female   2.0000      1      2  113781  151.5500  C22 C26   \n",
      "3       1         0    male  30.0000      1      2  113781  151.5500  C22 C26   \n",
      "4       1         0  female  25.0000      1      2  113781  151.5500  C22 C26   \n",
      "\n",
      "  embarked boat                        home.dest  \n",
      "0        S    2                     St Louis, MO  \n",
      "1        S   11  Montreal, PQ / Chesterville, ON  \n",
      "2        S    0  Montreal, PQ / Chesterville, ON  \n",
      "3        S    0  Montreal, PQ / Chesterville, ON  \n",
      "4        S    0  Montreal, PQ / Chesterville, ON  \n"
     ]
    },
    {
     "name": "stderr",
     "output_type": "stream",
     "text": [
      "C:\\Users\\User\\Anaconda3\\lib\\site-packages\\ipykernel\\__main__.py:2: FutureWarning: convert_objects is deprecated.  Use the data-type specific converters pd.to_datetime, pd.to_timedelta and pd.to_numeric.\n",
      "  from ipykernel import kernelapp as app\n"
     ]
    }
   ],
   "source": [
    "df.drop(['body','name'], 1, inplace=True)           #removing unnecessary columns\n",
    "df.convert_objects(convert_numeric=True)\n",
    "df.fillna(0, inplace=True)\n",
    "print (df.head())"
   ]
  },
  {
   "cell_type": "code",
   "execution_count": 38,
   "metadata": {
    "collapsed": false
   },
   "outputs": [],
   "source": [
    "# a function to handle all non-numeric data from the dataset \n",
    "def handle_non_numerical_data(df):\n",
    "    columns = df.columns.values                    #all the columns' name in 'columns variable'\n",
    "    for column in columns:\n",
    "        text_digit_vals = {}                       #a dictionary to store the column-values as numerical\n",
    "        \n",
    "        def convert_to_int(val):                   #a function to store the unique values in the dictionary\n",
    "            return text_digit_vals[val]\n",
    "        \n",
    "                                                   #storing the uniques values inside each column and \n",
    "                                                   #giving a value to be stored in the dictionary\n",
    "        if df[column].dtype != np.int64 and df[column].dtype != np.float64:\n",
    "            column_contents = df[column].values.tolist() #taking whole column as a list\n",
    "            unique_elements = set(column_contents)       #finding how many unique values in each column\n",
    "            x = 0\n",
    "            for unique in unique_elements:               #giving each unique value a number and storing in the dict\n",
    "                if unique not in text_digit_vals: \n",
    "                    text_digit_vals[unique] = x\n",
    "                    x += 1\n",
    "            \n",
    "            df[column] = list(map(convert_to_int, df[column]))  #mapping using the funtion convert_to_int() \n",
    "    return df"
   ]
  },
  {
   "cell_type": "code",
   "execution_count": 39,
   "metadata": {
    "collapsed": false
   },
   "outputs": [
    {
     "name": "stdout",
     "output_type": "stream",
     "text": [
      "   pclass  survived  sex      age  sibsp  parch  ticket      fare  cabin  \\\n",
      "0       1         1    1  29.0000      0      0     747  211.3375    176   \n",
      "1       1         1    0   0.9167      1      2     531  151.5500     96   \n",
      "2       1         0    1   2.0000      1      2     531  151.5500     96   \n",
      "3       1         0    0  30.0000      1      2     531  151.5500     96   \n",
      "4       1         0    1  25.0000      1      2     531  151.5500     96   \n",
      "\n",
      "   embarked  boat  home.dest  \n",
      "0         3     2        271  \n",
      "1         3    16          7  \n",
      "2         3     0          7  \n",
      "3         3     0          7  \n",
      "4         3     0          7  \n"
     ]
    }
   ],
   "source": [
    "df = handle_non_numerical_data(df)\n",
    "print(df.head())"
   ]
  },
  {
   "cell_type": "markdown",
   "metadata": {},
   "source": [
    "## so eikhane dekha jacche j shob column'gulai converted into numeric values unique numbers for each value in each column\n",
    "    e.g: sex column'e : female=0, male=1 eivbe pura column'k convert kroa hoise"
   ]
  },
  {
   "cell_type": "code",
   "execution_count": 40,
   "metadata": {
    "collapsed": false
   },
   "outputs": [
    {
     "name": "stdout",
     "output_type": "stream",
     "text": [
      "   pclass  survived      age  sibsp  parch  ticket      fare  cabin  embarked  \\\n",
      "0       1         1  29.0000      0      0     747  211.3375    176         3   \n",
      "1       1         1   0.9167      1      2     531  151.5500     96         3   \n",
      "2       1         0   2.0000      1      2     531  151.5500     96         3   \n",
      "3       1         0  30.0000      1      2     531  151.5500     96         3   \n",
      "4       1         0  25.0000      1      2     531  151.5500     96         3   \n",
      "\n",
      "   home.dest  \n",
      "0        271  \n",
      "1          7  \n",
      "2          7  \n",
      "3          7  \n",
      "4          7  \n"
     ]
    }
   ],
   "source": [
    "#try kore kore dekha jay, which column has how much effect on clustering accuracy\n",
    "df.drop(['boat','sex'], 1, inplace=True)\n",
    "print (df.head())"
   ]
  },
  {
   "cell_type": "code",
   "execution_count": 41,
   "metadata": {
    "collapsed": true
   },
   "outputs": [],
   "source": [
    "X = np.array(df.drop(['survived'], 1).astype(float))   #X is all but the survival column,and converted all to float datatypte\n",
    "X = preprocessing.scale(X)                             #scaling X just to improve the accuracy\n",
    "y = np.array(df['survived'])"
   ]
  },
  {
   "cell_type": "code",
   "execution_count": 42,
   "metadata": {
    "collapsed": false
   },
   "outputs": [
    {
     "data": {
      "text/plain": [
       "KMeans(algorithm='auto', copy_x=True, init='k-means++', max_iter=300,\n",
       "    n_clusters=2, n_init=10, n_jobs=1, precompute_distances='auto',\n",
       "    random_state=None, tol=0.0001, verbose=0)"
      ]
     },
     "execution_count": 42,
     "metadata": {},
     "output_type": "execute_result"
    }
   ],
   "source": [
    "clf = KMeans(n_clusters=2)                 #defining the classfier\n",
    "clf.fit(X)                                 #trained the classifer with X"
   ]
  },
  {
   "cell_type": "code",
   "execution_count": 43,
   "metadata": {
    "collapsed": false
   },
   "outputs": [
    {
     "name": "stdout",
     "output_type": "stream",
     "text": [
      "0.6867838044308633\n"
     ]
    }
   ],
   "source": [
    "correct = 0\n",
    "for i in range(len(X)):\n",
    "    ##\n",
    "    predict_me = np.array(X[i].astype(float))\n",
    "    predict_me = predict_me.reshape(-1, len(predict_me))\n",
    "    prediction = clf.predict(predict_me)\n",
    "    ## \n",
    "    ##we donot need to do these 3 lines in supervised learning coz, we wud know the ans b4 (see copy for more)\n",
    "    if prediction[0] == y[i]:             #jodi prediction thik hoy, correctness baralum\n",
    "        correct += 1\n",
    "\n",
    "print (correct/len(X))                    #the accuracy of the clustering"
   ]
  },
  {
   "cell_type": "markdown",
   "metadata": {},
   "source": [
    "### accuracy will be reciprocal...i.e once it comes 70% and then it may come 30% and vice versa, etc. coz there r 2 clusters alwys. So this is just random from which cluster's view, the accuracy is shown.....see copy"
   ]
  },
  {
   "cell_type": "code",
   "execution_count": null,
   "metadata": {
    "collapsed": true
   },
   "outputs": [],
   "source": []
  }
 ],
 "metadata": {
  "kernelspec": {
   "display_name": "Python 3",
   "language": "python",
   "name": "python3"
  },
  "language_info": {
   "codemirror_mode": {
    "name": "ipython",
    "version": 3
   },
   "file_extension": ".py",
   "mimetype": "text/x-python",
   "name": "python",
   "nbconvert_exporter": "python",
   "pygments_lexer": "ipython3",
   "version": "3.6.0"
  }
 },
 "nbformat": 4,
 "nbformat_minor": 2
}
