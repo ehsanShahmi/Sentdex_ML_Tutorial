{
 "cells": [
  {
   "cell_type": "code",
   "execution_count": 4,
   "metadata": {
    "collapsed": false
   },
   "outputs": [
    {
     "name": "stdout",
     "output_type": "stream",
     "text": [
      "0.428571428571 4.0\n"
     ]
    }
   ],
   "source": [
    "from statistics import mean\n",
    "import numpy as np\n",
    "import matplotlib.pyplot as plt\n",
    "from matplotlib import style\n",
    "style.use('fivethirtyeight')\n",
    "\n",
    "xs = np.array([1,2,3,4,5,6], dtype = np.float64)\n",
    "ys = np.array([5,4,6,5,6,7], dtype = np.float64)\n",
    "\n",
    "def best_fit_slope_and_intercept(xs,ys):\n",
    "    m = ( ((mean(xs) * mean(ys)) - mean(xs*ys) ) / \n",
    "            ((mean(xs)**2) - mean(xs**2)) )\n",
    "    b = mean(ys) - m * mean(xs)\n",
    "    return m, b\n",
    "\n",
    "#this function only gives the summation of the each y form the best-fit line, NOT the coefficient of determination\n",
    "def squared_error(ys_orig, ys_line):\n",
    "    return sum((ys_line - ys_orig)**2)\n",
    "\n",
    "#the function to find the coefficient of determination\n",
    "def coefficient_of_determination(ys_orig, ys_line):\n",
    "    y_mean_line = [mean(ys_orig) for y in ys]\n",
    "    squred_err_regr = squared_error(ys_orig, ys_line)\n",
    "    squred_err_y_mean = squared_error(ys_orig, y_mean_line)\n",
    "    return (1 - (squred_err_regr/squred_err_y_mean))\n",
    "\n",
    "m, b = best_fit_slope_and_intercept(xs,ys)\n",
    "\n",
    "\n",
    "regression_line = [( m * x + b ) for x in xs]\n",
    "\n",
    "x_predict = 6.5\n",
    "y_predict = (m * x_predict) + b\n"
   ]
  },
  {
   "cell_type": "code",
   "execution_count": 5,
   "metadata": {
    "collapsed": false
   },
   "outputs": [
    {
     "name": "stdout",
     "output_type": "stream",
     "text": [
      "0.428571428571 4.0 0.584415584416\n"
     ]
    }
   ],
   "source": [
    "r_squared = coefficient_of_determination(ys, regression_line)\n",
    "print (m, b, r_squared)\n",
    "\n",
    "# plt.scatter(xs, ys, color='red')\n",
    "# plt.scatter(x_predict, y_predict, color='blue')\n",
    "# plt.plot(xs, regression_line)\n",
    "# plt.show()"
   ]
  },
  {
   "cell_type": "code",
   "execution_count": null,
   "metadata": {
    "collapsed": true
   },
   "outputs": [],
   "source": []
  }
 ],
 "metadata": {
  "kernelspec": {
   "display_name": "Python 3",
   "language": "python",
   "name": "python3"
  },
  "language_info": {
   "codemirror_mode": {
    "name": "ipython",
    "version": 3
   },
   "file_extension": ".py",
   "mimetype": "text/x-python",
   "name": "python",
   "nbconvert_exporter": "python",
   "pygments_lexer": "ipython3",
   "version": "3.6.0"
  }
 },
 "nbformat": 4,
 "nbformat_minor": 2
}
